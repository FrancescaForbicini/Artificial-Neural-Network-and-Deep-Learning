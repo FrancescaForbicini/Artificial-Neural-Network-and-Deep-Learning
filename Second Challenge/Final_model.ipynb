{
  "nbformat": 4,
  "nbformat_minor": 0,
  "metadata": {
    "colab": {
      "provenance": [],
      "collapsed_sections": [
        "9CWe4ophP6Zo",
        "a1hhlv0TV4EJ",
        "pHOEfPg6DjFV"
      ],
      "include_colab_link": true
    },
    "kernelspec": {
      "name": "python3",
      "display_name": "Python 3"
    },
    "language_info": {
      "name": "python"
    },
    "gpuClass": "standard",
    "accelerator": "GPU"
  },
  "cells": [
    {
      "cell_type": "markdown",
      "metadata": {
        "id": "view-in-github",
        "colab_type": "text"
      },
      "source": [
        "<a href=\"https://colab.research.google.com/github/FrancescaForbicini/Artificial-Neural-Network-and-Deep-Learning/blob/main/Second%20Challenge/Final_model.ipynb\" target=\"_parent\"><img src=\"https://colab.research.google.com/assets/colab-badge.svg\" alt=\"Open In Colab\"/></a>"
      ]
    },
    {
      "cell_type": "markdown",
      "source": [
        "# Setup environment"
      ],
      "metadata": {
        "id": "9CWe4ophP6Zo"
      }
    },
    {
      "cell_type": "markdown",
      "metadata": {
        "id": "1FdqcMXk96rS"
      },
      "source": [
        "### Connect to Drive"
      ]
    },
    {
      "cell_type": "code",
      "metadata": {
        "id": "PxUZy3U-fjcm",
        "colab": {
          "base_uri": "https://localhost:8080/"
        },
        "outputId": "e7331cc1-8bb1-486e-f4c8-f47b107ae462"
      },
      "source": [
        "from google.colab import drive\n",
        "drive.mount('/gdrive')\n"
      ],
      "execution_count": null,
      "outputs": [
        {
          "output_type": "stream",
          "name": "stdout",
          "text": [
            "Mounted at /gdrive\n"
          ]
        }
      ]
    },
    {
      "cell_type": "code",
      "source": [
        "PATH = '/gdrive/My Drive/YOUR_PATH'\n",
        "%cd PATH"
      ],
      "metadata": {
        "id": "8IMDNv66Ecay"
      },
      "execution_count": null,
      "outputs": []
    },
    {
      "cell_type": "markdown",
      "metadata": {
        "id": "zfehjCy896Fd"
      },
      "source": [
        "### Import libraries"
      ]
    },
    {
      "cell_type": "code",
      "metadata": {
        "id": "Z_wVYNVVfr6q",
        "colab": {
          "base_uri": "https://localhost:8080/"
        },
        "outputId": "743f07f5-de1b-4937-dd98-c48c0faf692d"
      },
      "source": [
        "import tensorflow as tf\n",
        "import numpy as np\n",
        "import os\n",
        "import random\n",
        "import pandas as pd\n",
        "import seaborn as sns\n",
        "import matplotlib.pyplot as plt\n",
        "plt.rc('font', size=16)\n",
        "from sklearn.metrics import accuracy_score, f1_score, precision_score, recall_score\n",
        "from sklearn.metrics import confusion_matrix\n",
        "from sklearn.preprocessing import MinMaxScaler, RobustScaler, StandardScaler\n",
        "import warnings\n",
        "import logging\n",
        "import sklearn.utils as sku\n",
        "from sklearn.model_selection import train_test_split\n",
        "import imblearn.under_sampling as imbunder\n",
        "import imblearn.over_sampling as imbover\n",
        "import imblearn.combine as combine\n",
        "\n",
        "tfk = tf.keras\n",
        "tfkl = tf.keras.layers\n",
        "print(tf.__version__)"
      ],
      "execution_count": null,
      "outputs": [
        {
          "output_type": "stream",
          "name": "stdout",
          "text": [
            "2.9.2\n"
          ]
        }
      ]
    },
    {
      "cell_type": "markdown",
      "metadata": {
        "id": "C22kVdaRVClU"
      },
      "source": [
        "### Suppressed Warnings"
      ]
    },
    {
      "cell_type": "code",
      "execution_count": null,
      "metadata": {
        "id": "s3C-ix9rVClV"
      },
      "outputs": [],
      "source": [
        "import warnings\n",
        "import logging\n",
        "\n",
        "os.environ['TF_CPP_MIN_LOG_LEVEL'] = '2'\n",
        "warnings.simplefilter(action='ignore', category=FutureWarning)\n",
        "warnings.simplefilter(action='ignore', category=Warning)\n",
        "tf.get_logger().setLevel('INFO')\n",
        "tf.autograph.set_verbosity(0)\n",
        "\n",
        "tf.get_logger().setLevel(logging.ERROR)\n",
        "tf.get_logger().setLevel('ERROR')\n",
        "tf.compat.v1.logging.set_verbosity(tf.compat.v1.logging.ERROR)"
      ]
    },
    {
      "cell_type": "markdown",
      "source": [
        "### Global variables"
      ],
      "metadata": {
        "id": "f2N6nnJeVzjv"
      }
    },
    {
      "cell_type": "code",
      "source": [
        "dataset_dir = 'dataset'\n",
        "save_dir = 'models'\n",
        "\n",
        "validation_split = .1\n",
        "batch_size = 32\n",
        "epochs = 1000\n",
        "seed = 42\n",
        "shrinking_factor = 0.2"
      ],
      "metadata": {
        "id": "UedzkerJVyn-"
      },
      "execution_count": null,
      "outputs": []
    },
    {
      "cell_type": "markdown",
      "metadata": {
        "id": "lQWEHP13tQsc"
      },
      "source": [
        "### Set seed for reproducibility"
      ]
    },
    {
      "cell_type": "code",
      "metadata": {
        "id": "imBtfhUPLwB-"
      },
      "source": [
        "# Random seed for reproducibility\n",
        "\n",
        "random.seed(seed)\n",
        "os.environ['PYTHONHASHSEED'] = str(seed)\n",
        "np.random.seed(seed)\n",
        "tf.random.set_seed(seed)\n",
        "tf.compat.v1.set_random_seed(seed)"
      ],
      "execution_count": null,
      "outputs": []
    },
    {
      "cell_type": "markdown",
      "source": [
        "# Prepare dataset"
      ],
      "metadata": {
        "id": "a1hhlv0TV4EJ"
      }
    },
    {
      "cell_type": "markdown",
      "source": [
        "### Load dataset"
      ],
      "metadata": {
        "id": "NJSHyV07-2UG"
      }
    },
    {
      "cell_type": "code",
      "metadata": {
        "id": "b8YZJJSvAmvJ"
      },
      "source": [
        "x = np.load(f'{dataset_dir}/x_train.npy')\n",
        "num_samples = len(x)\n",
        "window = len(x[0])\n",
        "dims = len(x[0][0])\n",
        "y = np.load('dataset/y_train.npy')\n",
        "classes = y.max()-y.min()+1"
      ],
      "execution_count": null,
      "outputs": []
    },
    {
      "cell_type": "code",
      "source": [
        "def get_samples_per_class(labels, verbose=True):\n",
        "  samples_per_class = np.zeros(classes).astype(int)\n",
        "  for i in range(0,len(labels)):\n",
        "    samples_per_class[labels[i].astype(int)] += 1\n",
        "  if verbose:\n",
        "    print(samples_per_class)\n",
        "  return samples_per_class"
      ],
      "metadata": {
        "id": "I0u-soz-9LEy"
      },
      "execution_count": null,
      "outputs": []
    },
    {
      "cell_type": "markdown",
      "source": [
        "### Undersampling"
      ],
      "metadata": {
        "id": "Saw5ph_iOlQ8"
      }
    },
    {
      "cell_type": "code",
      "source": [
        "x = np.reshape(x, (num_samples,window*dims))\n",
        "\n",
        "samples_per_class = get_samples_per_class(y)\n",
        "\n",
        "avg_samples = np.floor(samples_per_class.sum()/classes).astype(int)\n",
        "\n",
        "sampling_strategy = {}\n",
        "for i in range(classes):\n",
        "  under = np.ceil(((avg_samples-samples_per_class[i])*shrinking_factor+samples_per_class[i])).astype(int)\n",
        "  if(samples_per_class[i] > under):\n",
        "    sampling_strategy[i] = under\n",
        "  else:\n",
        "    sampling_strategy[i] = samples_per_class[i]\n",
        "\n",
        "undersampler = imbunder.RandomUnderSampler(sampling_strategy=sampling_strategy)\n",
        "x, y = undersampler.fit_resample(x, y)\n",
        "\n",
        "samples_per_class = get_samples_per_class(y)\n",
        "\n",
        "num_samples = len(x)\n",
        "x = np.reshape(x, (num_samples, window, dims))"
      ],
      "metadata": {
        "id": "INWb7NYukvGu",
        "colab": {
          "base_uri": "https://localhost:8080/"
        },
        "outputId": "f59ec55d-372c-47b4-8c77-18a61da2994d"
      },
      "execution_count": null,
      "outputs": [
        {
          "output_type": "stream",
          "name": "stdout",
          "text": [
            "[ 34 123 270 381  62 153 313  68 120 777  77  51]\n",
            "[ 34 123 257 346  62 153 291  68 120 662  77  51]\n"
          ]
        }
      ]
    },
    {
      "cell_type": "markdown",
      "source": [
        "### Split test and validation"
      ],
      "metadata": {
        "id": "nMK5BX-zSRq2"
      }
    },
    {
      "cell_type": "code",
      "source": [
        "x_train, x_test, y_train, y_test = train_test_split(x, y, test_size=validation_split, random_state=seed, stratify=y)\n",
        "\n",
        "x_train, y_train = sku.shuffle(x_train,y_train,random_state = seed)\n",
        "\n",
        "train_samples = len(x_train)\n",
        "get_samples_per_class(y_train)\n",
        "test_samples = len(x_test)\n",
        "get_samples_per_class(y_test)"
      ],
      "metadata": {
        "id": "nZ320OqUSRH-",
        "colab": {
          "base_uri": "https://localhost:8080/"
        },
        "outputId": "47629d2d-0388-4373-8a6e-047cbca74a92"
      },
      "execution_count": null,
      "outputs": [
        {
          "output_type": "stream",
          "name": "stdout",
          "text": [
            "[ 30 111 231 311  56 138 262  61 108 596  69  46]\n",
            "[ 4 12 26 35  6 15 29  7 12 66  8  5]\n"
          ]
        },
        {
          "output_type": "execute_result",
          "data": {
            "text/plain": [
              "array([ 4, 12, 26, 35,  6, 15, 29,  7, 12, 66,  8,  5])"
            ]
          },
          "metadata": {},
          "execution_count": 10
        }
      ]
    },
    {
      "cell_type": "markdown",
      "source": [
        "### Oversampling"
      ],
      "metadata": {
        "id": "EUWlENDUXLjH"
      }
    },
    {
      "cell_type": "code",
      "source": [
        "x_train = np.reshape(x_train, (train_samples,window*dims))\n",
        "\n",
        "sampling_strategy = {}\n",
        "for i in range(classes):\n",
        "  over = np.ceil(((avg_samples-samples_per_class[i])*shrinking_factor+samples_per_class[i])).astype(int)\n",
        "  if samples_per_class[i] < over:\n",
        "    sampling_strategy[i] = over\n",
        "  else:\n",
        "    sampling_strategy[i] = samples_per_class[i]\n",
        "\n",
        "oversampler = imbover.RandomOverSampler(sampling_strategy=sampling_strategy)\n",
        "x_train, y_train = oversampler.fit_resample(x_train, y_train)\n",
        "\n",
        "\n",
        "train_samples = len(x_train)\n",
        "get_samples_per_class(y_train)\n",
        "x_train = np.reshape(x_train, (train_samples, window, dims))"
      ],
      "metadata": {
        "id": "9iKzQ7FSXKxc",
        "colab": {
          "base_uri": "https://localhost:8080/"
        },
        "outputId": "90fa917b-1483-4eec-a997-ce0615adfd7c"
      },
      "execution_count": null,
      "outputs": [
        {
          "output_type": "stream",
          "name": "stdout",
          "text": [
            "[ 68 139 257 346  90 163 291  95 137 662 102  82]\n"
          ]
        }
      ]
    },
    {
      "cell_type": "markdown",
      "source": [
        "### Go to categorical labels"
      ],
      "metadata": {
        "id": "v_Z_IHSfD-Y9"
      }
    },
    {
      "cell_type": "code",
      "metadata": {
        "id": "tguCut77u6bL"
      },
      "source": [
        "#Convert the sparse labels to categorical values\n",
        "y_train = tfk.utils.to_categorical(y_train)\n",
        "y_test = tfk.utils.to_categorical(y_test)"
      ],
      "execution_count": null,
      "outputs": []
    },
    {
      "cell_type": "markdown",
      "source": [
        "### Normalize"
      ],
      "metadata": {
        "id": "CEs-bcun-4Yh"
      }
    },
    {
      "cell_type": "code",
      "metadata": {
        "id": "RbNXNkYepCNY"
      },
      "source": [
        "# Apply RobustScaler to the useful features\n",
        "x_train = np.reshape(x_train, (train_samples, window*dims))\n",
        "x_test = np.reshape(x_test, (test_samples, window*dims))\n",
        "\n",
        "scaler = RobustScaler()\n",
        "scaler = scaler.fit(x_train)\n",
        "\n",
        "x_train = scaler.transform(x_train)\n",
        "x_test = scaler.transform(x_test)\n",
        "\n",
        "x_train = np.reshape(x_train, (train_samples, window, dims))\n",
        "x_test = np.reshape(x_test, (test_samples, window, dims))"
      ],
      "execution_count": null,
      "outputs": []
    },
    {
      "cell_type": "markdown",
      "source": [
        "# Build and train model"
      ],
      "metadata": {
        "id": "pHOEfPg6DjFV"
      }
    },
    {
      "cell_type": "code",
      "metadata": {
        "id": "XkUqhy__KMnr"
      },
      "source": [
        "input_shape = x_train.shape[1:]\n",
        "classes = y_train.shape[-1]"
      ],
      "execution_count": null,
      "outputs": []
    },
    {
      "cell_type": "markdown",
      "metadata": {
        "id": "bAP1pRLKN_v9"
      },
      "source": [
        "#### Build model"
      ]
    },
    {
      "cell_type": "code",
      "metadata": {
        "id": "vn115JrZjdTT"
      },
      "source": [
        "def build_classifier(input_shape, classes):\n",
        "  # Build the neural network layer by layer\n",
        "  input_layer = tfkl.Input(shape=input_shape, name='Input')\n",
        "\n",
        "  x = tfkl.GaussianNoise(.1)(input_layer)\n",
        "\n",
        "  # Feature extractor\n",
        "  x = tfkl.Conv1D(filters=128, kernel_size=6,padding='same',activation='relu')(x)\n",
        "  x = tfkl.Dropout(.4, seed=seed)(x)\n",
        "  x = tfkl.Conv1D(filters=64, kernel_size=3,padding='same',activation='relu')(x)\n",
        "  x = tfkl.Dropout(.4, seed=seed)(x)\n",
        "\n",
        "  y = tfkl.Conv1D(filters=64, kernel_size=1, padding='same',activation='relu')(input_layer)\n",
        "  y = tfkl.Dropout(.4, seed=seed)(y)\n",
        "\n",
        "\n",
        "  x = tfkl.add([y, x])\n",
        "  x = tfkl.Activation('relu')(x)\n",
        "\n",
        "  x = tfkl.GlobalAveragePooling1D()(x)\n",
        "\n",
        "\n",
        "  # Classifier\n",
        "  x = tfkl.Dense(128, activation='relu')(x)\n",
        "  x = tfkl.Dropout(.4, seed=seed)(x)\n",
        "  output_layer = tfkl.Dense(classes, activation='softmax')(x)\n",
        "\n",
        "  # Connect input and output through the Model class\n",
        "  model = tfk.Model(inputs=input_layer, outputs=output_layer, name='model')\n",
        "\n",
        "  # Compile the model\n",
        "  model.compile(loss=tfk.losses.CategoricalCrossentropy(), optimizer=tfk.optimizers.Adam(1e-3), metrics='accuracy')\n",
        "\n",
        "  # Return the model\n",
        "  return model"
      ],
      "execution_count": null,
      "outputs": []
    },
    {
      "cell_type": "code",
      "metadata": {
        "id": "SE7LPD2WKMvP",
        "colab": {
          "base_uri": "https://localhost:8080/"
        },
        "outputId": "9601996f-1e42-42d0-977f-21e3dee813ff"
      },
      "source": [
        "model = build_classifier(input_shape, classes)\n",
        "model.summary()"
      ],
      "execution_count": null,
      "outputs": [
        {
          "output_type": "stream",
          "name": "stdout",
          "text": [
            "Model: \"model\"\n",
            "__________________________________________________________________________________________________\n",
            " Layer (type)                   Output Shape         Param #     Connected to                     \n",
            "==================================================================================================\n",
            " Input (InputLayer)             [(None, 36, 6)]      0           []                               \n",
            "                                                                                                  \n",
            " gaussian_noise (GaussianNoise)  (None, 36, 6)       0           ['Input[0][0]']                  \n",
            "                                                                                                  \n",
            " conv1d (Conv1D)                (None, 36, 128)      4736        ['gaussian_noise[0][0]']         \n",
            "                                                                                                  \n",
            " dropout (Dropout)              (None, 36, 128)      0           ['conv1d[0][0]']                 \n",
            "                                                                                                  \n",
            " conv1d_2 (Conv1D)              (None, 36, 64)       448         ['Input[0][0]']                  \n",
            "                                                                                                  \n",
            " conv1d_1 (Conv1D)              (None, 36, 64)       24640       ['dropout[0][0]']                \n",
            "                                                                                                  \n",
            " dropout_2 (Dropout)            (None, 36, 64)       0           ['conv1d_2[0][0]']               \n",
            "                                                                                                  \n",
            " dropout_1 (Dropout)            (None, 36, 64)       0           ['conv1d_1[0][0]']               \n",
            "                                                                                                  \n",
            " add (Add)                      (None, 36, 64)       0           ['dropout_2[0][0]',              \n",
            "                                                                  'dropout_1[0][0]']              \n",
            "                                                                                                  \n",
            " activation (Activation)        (None, 36, 64)       0           ['add[0][0]']                    \n",
            "                                                                                                  \n",
            " global_average_pooling1d (Glob  (None, 64)          0           ['activation[0][0]']             \n",
            " alAveragePooling1D)                                                                              \n",
            "                                                                                                  \n",
            " dense (Dense)                  (None, 128)          8320        ['global_average_pooling1d[0][0]'\n",
            "                                                                 ]                                \n",
            "                                                                                                  \n",
            " dropout_3 (Dropout)            (None, 128)          0           ['dense[0][0]']                  \n",
            "                                                                                                  \n",
            " dense_1 (Dense)                (None, 12)           1548        ['dropout_3[0][0]']              \n",
            "                                                                                                  \n",
            "==================================================================================================\n",
            "Total params: 39,692\n",
            "Trainable params: 39,692\n",
            "Non-trainable params: 0\n",
            "__________________________________________________________________________________________________\n"
          ]
        }
      ]
    },
    {
      "cell_type": "code",
      "metadata": {
        "id": "xujngeFRKMsu",
        "colab": {
          "base_uri": "https://localhost:8080/"
        },
        "outputId": "1cd3070e-83f7-4bc6-f0cb-c03192ef64e6"
      },
      "source": [
        "# Train the model\n",
        "history = model.fit(\n",
        "    x = x_train,\n",
        "    y = y_train,\n",
        "    batch_size = batch_size,\n",
        "    epochs = epochs,\n",
        "    validation_data = (x_test, y_test),\n",
        "    callbacks = [\n",
        "        tfk.callbacks.EarlyStopping(monitor='val_accuracy', mode='max', patience=50, restore_best_weights=True),\n",
        "        tfk.callbacks.ReduceLROnPlateau(monitor='val_accuracy', factor=0.5, patience=30 , min_lr=1e-10)\n",
        "    ]\n",
        "  ).history"
      ],
      "execution_count": null,
      "outputs": [
        {
          "output_type": "stream",
          "name": "stdout",
          "text": [
            "Epoch 1/1000\n",
            "76/76 [==============================] - 10s 7ms/step - loss: 5.0818 - accuracy: 0.1883 - val_loss: 2.4038 - val_accuracy: 0.2978 - lr: 0.0010\n",
            "Epoch 2/1000\n",
            "76/76 [==============================] - 0s 5ms/step - loss: 3.0943 - accuracy: 0.3100 - val_loss: 2.1629 - val_accuracy: 0.3511 - lr: 0.0010\n",
            "Epoch 3/1000\n",
            "76/76 [==============================] - 0s 4ms/step - loss: 2.5547 - accuracy: 0.3516 - val_loss: 2.0644 - val_accuracy: 0.3911 - lr: 0.0010\n",
            "Epoch 4/1000\n",
            "76/76 [==============================] - 0s 4ms/step - loss: 2.2804 - accuracy: 0.3532 - val_loss: 1.8825 - val_accuracy: 0.4089 - lr: 0.0010\n",
            "Epoch 5/1000\n",
            "76/76 [==============================] - 0s 4ms/step - loss: 2.1302 - accuracy: 0.3775 - val_loss: 1.7743 - val_accuracy: 0.4000 - lr: 0.0010\n",
            "Epoch 6/1000\n",
            "76/76 [==============================] - 0s 4ms/step - loss: 2.0032 - accuracy: 0.3840 - val_loss: 1.7095 - val_accuracy: 0.4400 - lr: 0.0010\n",
            "Epoch 7/1000\n",
            "76/76 [==============================] - 0s 4ms/step - loss: 2.0082 - accuracy: 0.3997 - val_loss: 1.6997 - val_accuracy: 0.4578 - lr: 0.0010\n",
            "Epoch 8/1000\n",
            "76/76 [==============================] - 0s 4ms/step - loss: 1.8759 - accuracy: 0.4100 - val_loss: 1.6300 - val_accuracy: 0.4711 - lr: 0.0010\n",
            "Epoch 9/1000\n",
            "76/76 [==============================] - 0s 4ms/step - loss: 1.8660 - accuracy: 0.4219 - val_loss: 1.6155 - val_accuracy: 0.4933 - lr: 0.0010\n",
            "Epoch 10/1000\n",
            "76/76 [==============================] - 0s 4ms/step - loss: 1.7863 - accuracy: 0.4289 - val_loss: 1.6722 - val_accuracy: 0.4578 - lr: 0.0010\n",
            "Epoch 11/1000\n",
            "76/76 [==============================] - 0s 4ms/step - loss: 1.7512 - accuracy: 0.4334 - val_loss: 1.5878 - val_accuracy: 0.4711 - lr: 0.0010\n",
            "Epoch 12/1000\n",
            "76/76 [==============================] - 0s 4ms/step - loss: 1.6744 - accuracy: 0.4556 - val_loss: 1.5067 - val_accuracy: 0.4756 - lr: 0.0010\n",
            "Epoch 13/1000\n",
            "76/76 [==============================] - 0s 4ms/step - loss: 1.6890 - accuracy: 0.4581 - val_loss: 1.5752 - val_accuracy: 0.4578 - lr: 0.0010\n",
            "Epoch 14/1000\n",
            "76/76 [==============================] - 0s 4ms/step - loss: 1.6138 - accuracy: 0.4650 - val_loss: 1.4763 - val_accuracy: 0.5067 - lr: 0.0010\n",
            "Epoch 15/1000\n",
            "76/76 [==============================] - 0s 4ms/step - loss: 1.5981 - accuracy: 0.4790 - val_loss: 1.4435 - val_accuracy: 0.5200 - lr: 0.0010\n",
            "Epoch 16/1000\n",
            "76/76 [==============================] - 0s 4ms/step - loss: 1.5925 - accuracy: 0.4844 - val_loss: 1.4627 - val_accuracy: 0.5244 - lr: 0.0010\n",
            "Epoch 17/1000\n",
            "76/76 [==============================] - 0s 4ms/step - loss: 1.5443 - accuracy: 0.4996 - val_loss: 1.5775 - val_accuracy: 0.5022 - lr: 0.0010\n",
            "Epoch 18/1000\n",
            "76/76 [==============================] - 0s 4ms/step - loss: 1.5491 - accuracy: 0.4914 - val_loss: 1.4239 - val_accuracy: 0.4844 - lr: 0.0010\n",
            "Epoch 19/1000\n",
            "76/76 [==============================] - 0s 4ms/step - loss: 1.5047 - accuracy: 0.4984 - val_loss: 1.4595 - val_accuracy: 0.5111 - lr: 0.0010\n",
            "Epoch 20/1000\n",
            "76/76 [==============================] - 0s 4ms/step - loss: 1.4607 - accuracy: 0.5053 - val_loss: 1.3296 - val_accuracy: 0.5378 - lr: 0.0010\n",
            "Epoch 21/1000\n",
            "76/76 [==============================] - 0s 4ms/step - loss: 1.4895 - accuracy: 0.5086 - val_loss: 1.4266 - val_accuracy: 0.5067 - lr: 0.0010\n",
            "Epoch 22/1000\n",
            "76/76 [==============================] - 0s 4ms/step - loss: 1.4697 - accuracy: 0.5132 - val_loss: 1.3370 - val_accuracy: 0.5556 - lr: 0.0010\n",
            "Epoch 23/1000\n",
            "76/76 [==============================] - 0s 4ms/step - loss: 1.5345 - accuracy: 0.5123 - val_loss: 1.4120 - val_accuracy: 0.5244 - lr: 0.0010\n",
            "Epoch 24/1000\n",
            "76/76 [==============================] - 0s 4ms/step - loss: 1.4513 - accuracy: 0.5193 - val_loss: 1.4921 - val_accuracy: 0.5289 - lr: 0.0010\n",
            "Epoch 25/1000\n",
            "76/76 [==============================] - 0s 4ms/step - loss: 1.4567 - accuracy: 0.5214 - val_loss: 1.4558 - val_accuracy: 0.5200 - lr: 0.0010\n",
            "Epoch 26/1000\n",
            "76/76 [==============================] - 0s 4ms/step - loss: 1.5662 - accuracy: 0.4959 - val_loss: 1.3499 - val_accuracy: 0.5333 - lr: 0.0010\n",
            "Epoch 27/1000\n",
            "76/76 [==============================] - 0s 4ms/step - loss: 1.4614 - accuracy: 0.5136 - val_loss: 1.3590 - val_accuracy: 0.5378 - lr: 0.0010\n",
            "Epoch 28/1000\n",
            "76/76 [==============================] - 0s 4ms/step - loss: 1.3955 - accuracy: 0.5312 - val_loss: 1.3375 - val_accuracy: 0.5467 - lr: 0.0010\n",
            "Epoch 29/1000\n",
            "76/76 [==============================] - 0s 4ms/step - loss: 1.3693 - accuracy: 0.5477 - val_loss: 1.2359 - val_accuracy: 0.6000 - lr: 0.0010\n",
            "Epoch 30/1000\n",
            "76/76 [==============================] - 0s 4ms/step - loss: 1.3203 - accuracy: 0.5543 - val_loss: 1.2472 - val_accuracy: 0.5778 - lr: 0.0010\n",
            "Epoch 31/1000\n",
            "76/76 [==============================] - 0s 4ms/step - loss: 1.3347 - accuracy: 0.5493 - val_loss: 1.3289 - val_accuracy: 0.5467 - lr: 0.0010\n",
            "Epoch 32/1000\n",
            "76/76 [==============================] - 0s 4ms/step - loss: 1.3205 - accuracy: 0.5613 - val_loss: 1.2900 - val_accuracy: 0.5911 - lr: 0.0010\n",
            "Epoch 33/1000\n",
            "76/76 [==============================] - 0s 4ms/step - loss: 1.2968 - accuracy: 0.5641 - val_loss: 1.2258 - val_accuracy: 0.5778 - lr: 0.0010\n",
            "Epoch 34/1000\n",
            "76/76 [==============================] - 0s 4ms/step - loss: 1.3290 - accuracy: 0.5559 - val_loss: 1.3028 - val_accuracy: 0.5822 - lr: 0.0010\n",
            "Epoch 35/1000\n",
            "76/76 [==============================] - 0s 4ms/step - loss: 1.2813 - accuracy: 0.5666 - val_loss: 1.3515 - val_accuracy: 0.5733 - lr: 0.0010\n",
            "Epoch 36/1000\n",
            "76/76 [==============================] - 0s 4ms/step - loss: 1.2671 - accuracy: 0.5674 - val_loss: 1.3447 - val_accuracy: 0.5689 - lr: 0.0010\n",
            "Epoch 37/1000\n",
            "76/76 [==============================] - 0s 4ms/step - loss: 1.2085 - accuracy: 0.5818 - val_loss: 1.2316 - val_accuracy: 0.6089 - lr: 0.0010\n",
            "Epoch 38/1000\n",
            "76/76 [==============================] - 0s 4ms/step - loss: 1.2580 - accuracy: 0.5913 - val_loss: 1.2680 - val_accuracy: 0.6044 - lr: 0.0010\n",
            "Epoch 39/1000\n",
            "76/76 [==============================] - 0s 4ms/step - loss: 1.2195 - accuracy: 0.5933 - val_loss: 1.1924 - val_accuracy: 0.6044 - lr: 0.0010\n",
            "Epoch 40/1000\n",
            "76/76 [==============================] - 0s 4ms/step - loss: 1.2610 - accuracy: 0.5917 - val_loss: 1.2683 - val_accuracy: 0.6089 - lr: 0.0010\n",
            "Epoch 41/1000\n",
            "76/76 [==============================] - 0s 5ms/step - loss: 1.2452 - accuracy: 0.5826 - val_loss: 1.3571 - val_accuracy: 0.5956 - lr: 0.0010\n",
            "Epoch 42/1000\n",
            "76/76 [==============================] - 0s 4ms/step - loss: 1.2006 - accuracy: 0.5905 - val_loss: 1.2227 - val_accuracy: 0.6178 - lr: 0.0010\n",
            "Epoch 43/1000\n",
            "76/76 [==============================] - 0s 4ms/step - loss: 1.1867 - accuracy: 0.6020 - val_loss: 1.2296 - val_accuracy: 0.5867 - lr: 0.0010\n",
            "Epoch 44/1000\n",
            "76/76 [==============================] - 0s 4ms/step - loss: 1.1630 - accuracy: 0.6040 - val_loss: 1.1850 - val_accuracy: 0.6089 - lr: 0.0010\n",
            "Epoch 45/1000\n",
            "76/76 [==============================] - 0s 4ms/step - loss: 1.1504 - accuracy: 0.6086 - val_loss: 1.1932 - val_accuracy: 0.6133 - lr: 0.0010\n",
            "Epoch 46/1000\n",
            "76/76 [==============================] - 0s 4ms/step - loss: 1.1854 - accuracy: 0.6118 - val_loss: 1.2253 - val_accuracy: 0.5956 - lr: 0.0010\n",
            "Epoch 47/1000\n",
            "76/76 [==============================] - 0s 4ms/step - loss: 1.1593 - accuracy: 0.6094 - val_loss: 1.1201 - val_accuracy: 0.6178 - lr: 0.0010\n",
            "Epoch 48/1000\n",
            "76/76 [==============================] - 0s 4ms/step - loss: 1.2455 - accuracy: 0.5962 - val_loss: 1.1044 - val_accuracy: 0.6133 - lr: 0.0010\n",
            "Epoch 49/1000\n",
            "76/76 [==============================] - 0s 4ms/step - loss: 1.1380 - accuracy: 0.6188 - val_loss: 1.1368 - val_accuracy: 0.6000 - lr: 0.0010\n",
            "Epoch 50/1000\n",
            "76/76 [==============================] - 0s 4ms/step - loss: 1.2561 - accuracy: 0.6016 - val_loss: 1.1573 - val_accuracy: 0.6133 - lr: 0.0010\n",
            "Epoch 51/1000\n",
            "76/76 [==============================] - 0s 4ms/step - loss: 1.1340 - accuracy: 0.6201 - val_loss: 1.2533 - val_accuracy: 0.6178 - lr: 0.0010\n",
            "Epoch 52/1000\n",
            "76/76 [==============================] - 0s 4ms/step - loss: 1.2326 - accuracy: 0.6090 - val_loss: 1.3376 - val_accuracy: 0.5956 - lr: 0.0010\n",
            "Epoch 53/1000\n",
            "76/76 [==============================] - 0s 4ms/step - loss: 1.2029 - accuracy: 0.5810 - val_loss: 1.2601 - val_accuracy: 0.5911 - lr: 0.0010\n",
            "Epoch 54/1000\n",
            "76/76 [==============================] - 0s 4ms/step - loss: 1.1449 - accuracy: 0.6127 - val_loss: 1.1674 - val_accuracy: 0.6222 - lr: 0.0010\n",
            "Epoch 55/1000\n",
            "76/76 [==============================] - 0s 4ms/step - loss: 1.1386 - accuracy: 0.6250 - val_loss: 1.0940 - val_accuracy: 0.6533 - lr: 0.0010\n",
            "Epoch 56/1000\n",
            "76/76 [==============================] - 0s 4ms/step - loss: 1.0897 - accuracy: 0.6160 - val_loss: 1.1347 - val_accuracy: 0.6444 - lr: 0.0010\n",
            "Epoch 57/1000\n",
            "76/76 [==============================] - 0s 4ms/step - loss: 1.1263 - accuracy: 0.6213 - val_loss: 1.6357 - val_accuracy: 0.5644 - lr: 0.0010\n",
            "Epoch 58/1000\n",
            "76/76 [==============================] - 0s 4ms/step - loss: 1.1742 - accuracy: 0.5975 - val_loss: 1.1729 - val_accuracy: 0.6311 - lr: 0.0010\n",
            "Epoch 59/1000\n",
            "76/76 [==============================] - 0s 4ms/step - loss: 1.1071 - accuracy: 0.6283 - val_loss: 1.1362 - val_accuracy: 0.6400 - lr: 0.0010\n",
            "Epoch 60/1000\n",
            "76/76 [==============================] - 0s 4ms/step - loss: 1.1101 - accuracy: 0.6213 - val_loss: 1.1542 - val_accuracy: 0.6311 - lr: 0.0010\n",
            "Epoch 61/1000\n",
            "76/76 [==============================] - 0s 4ms/step - loss: 1.0562 - accuracy: 0.6353 - val_loss: 1.0784 - val_accuracy: 0.6267 - lr: 0.0010\n",
            "Epoch 62/1000\n",
            "76/76 [==============================] - 0s 4ms/step - loss: 1.0753 - accuracy: 0.6353 - val_loss: 1.0926 - val_accuracy: 0.6444 - lr: 0.0010\n",
            "Epoch 63/1000\n",
            "76/76 [==============================] - 0s 4ms/step - loss: 1.0364 - accuracy: 0.6443 - val_loss: 1.1627 - val_accuracy: 0.6267 - lr: 0.0010\n",
            "Epoch 64/1000\n",
            "76/76 [==============================] - 0s 4ms/step - loss: 1.0423 - accuracy: 0.6299 - val_loss: 1.0899 - val_accuracy: 0.6178 - lr: 0.0010\n",
            "Epoch 65/1000\n",
            "76/76 [==============================] - 0s 4ms/step - loss: 1.0616 - accuracy: 0.6493 - val_loss: 1.2139 - val_accuracy: 0.6178 - lr: 0.0010\n",
            "Epoch 66/1000\n",
            "76/76 [==============================] - 0s 4ms/step - loss: 1.0063 - accuracy: 0.6501 - val_loss: 1.0904 - val_accuracy: 0.6044 - lr: 0.0010\n",
            "Epoch 67/1000\n",
            "76/76 [==============================] - 0s 4ms/step - loss: 0.9893 - accuracy: 0.6591 - val_loss: 1.1007 - val_accuracy: 0.6044 - lr: 0.0010\n",
            "Epoch 68/1000\n",
            "76/76 [==============================] - 0s 4ms/step - loss: 1.0314 - accuracy: 0.6616 - val_loss: 1.1503 - val_accuracy: 0.6311 - lr: 0.0010\n",
            "Epoch 69/1000\n",
            "76/76 [==============================] - 0s 4ms/step - loss: 0.9790 - accuracy: 0.6653 - val_loss: 1.1060 - val_accuracy: 0.6356 - lr: 0.0010\n",
            "Epoch 70/1000\n",
            "76/76 [==============================] - 0s 4ms/step - loss: 0.9833 - accuracy: 0.6694 - val_loss: 1.0961 - val_accuracy: 0.6444 - lr: 0.0010\n",
            "Epoch 71/1000\n",
            "76/76 [==============================] - 0s 4ms/step - loss: 1.0000 - accuracy: 0.6546 - val_loss: 1.0770 - val_accuracy: 0.6533 - lr: 0.0010\n",
            "Epoch 72/1000\n",
            "76/76 [==============================] - 0s 4ms/step - loss: 0.9761 - accuracy: 0.6604 - val_loss: 1.1148 - val_accuracy: 0.6267 - lr: 0.0010\n",
            "Epoch 73/1000\n",
            "76/76 [==============================] - 0s 5ms/step - loss: 0.9438 - accuracy: 0.6715 - val_loss: 1.0543 - val_accuracy: 0.6400 - lr: 0.0010\n",
            "Epoch 74/1000\n",
            "76/76 [==============================] - 0s 4ms/step - loss: 1.0514 - accuracy: 0.6554 - val_loss: 1.0771 - val_accuracy: 0.6311 - lr: 0.0010\n",
            "Epoch 75/1000\n",
            "76/76 [==============================] - 0s 4ms/step - loss: 1.1277 - accuracy: 0.6316 - val_loss: 1.2598 - val_accuracy: 0.6400 - lr: 0.0010\n",
            "Epoch 76/1000\n",
            "76/76 [==============================] - 0s 4ms/step - loss: 1.0083 - accuracy: 0.6612 - val_loss: 1.0728 - val_accuracy: 0.6444 - lr: 0.0010\n",
            "Epoch 77/1000\n",
            "76/76 [==============================] - 0s 4ms/step - loss: 0.9703 - accuracy: 0.6554 - val_loss: 1.0511 - val_accuracy: 0.6400 - lr: 0.0010\n",
            "Epoch 78/1000\n",
            "76/76 [==============================] - 0s 4ms/step - loss: 0.9927 - accuracy: 0.6678 - val_loss: 1.0661 - val_accuracy: 0.6356 - lr: 0.0010\n",
            "Epoch 79/1000\n",
            "76/76 [==============================] - 0s 4ms/step - loss: 1.0656 - accuracy: 0.6525 - val_loss: 1.0561 - val_accuracy: 0.6622 - lr: 0.0010\n",
            "Epoch 80/1000\n",
            "76/76 [==============================] - 0s 4ms/step - loss: 1.3640 - accuracy: 0.6061 - val_loss: 1.1675 - val_accuracy: 0.6489 - lr: 0.0010\n",
            "Epoch 81/1000\n",
            "76/76 [==============================] - 0s 4ms/step - loss: 1.0557 - accuracy: 0.6530 - val_loss: 1.0712 - val_accuracy: 0.6578 - lr: 0.0010\n",
            "Epoch 82/1000\n",
            "76/76 [==============================] - 0s 4ms/step - loss: 0.9669 - accuracy: 0.6760 - val_loss: 1.0359 - val_accuracy: 0.6533 - lr: 0.0010\n",
            "Epoch 83/1000\n",
            "76/76 [==============================] - 0s 4ms/step - loss: 0.9902 - accuracy: 0.6735 - val_loss: 1.1209 - val_accuracy: 0.6489 - lr: 0.0010\n",
            "Epoch 84/1000\n",
            "76/76 [==============================] - 0s 4ms/step - loss: 0.9436 - accuracy: 0.6694 - val_loss: 1.1370 - val_accuracy: 0.6844 - lr: 0.0010\n",
            "Epoch 85/1000\n",
            "76/76 [==============================] - 0s 4ms/step - loss: 0.9482 - accuracy: 0.6715 - val_loss: 1.1327 - val_accuracy: 0.6578 - lr: 0.0010\n",
            "Epoch 86/1000\n",
            "76/76 [==============================] - 0s 4ms/step - loss: 0.9623 - accuracy: 0.6698 - val_loss: 1.1317 - val_accuracy: 0.6578 - lr: 0.0010\n",
            "Epoch 87/1000\n",
            "76/76 [==============================] - 0s 4ms/step - loss: 1.0881 - accuracy: 0.6505 - val_loss: 1.1025 - val_accuracy: 0.6622 - lr: 0.0010\n",
            "Epoch 88/1000\n",
            "76/76 [==============================] - 0s 4ms/step - loss: 0.9241 - accuracy: 0.6764 - val_loss: 1.0540 - val_accuracy: 0.6667 - lr: 0.0010\n",
            "Epoch 89/1000\n",
            "76/76 [==============================] - 0s 4ms/step - loss: 0.9464 - accuracy: 0.6723 - val_loss: 1.1428 - val_accuracy: 0.6622 - lr: 0.0010\n",
            "Epoch 90/1000\n",
            "76/76 [==============================] - 0s 4ms/step - loss: 0.9375 - accuracy: 0.6830 - val_loss: 1.0770 - val_accuracy: 0.6578 - lr: 0.0010\n",
            "Epoch 91/1000\n",
            "76/76 [==============================] - 0s 4ms/step - loss: 0.8947 - accuracy: 0.6908 - val_loss: 1.1085 - val_accuracy: 0.6756 - lr: 0.0010\n",
            "Epoch 92/1000\n",
            "76/76 [==============================] - 0s 4ms/step - loss: 0.9223 - accuracy: 0.6846 - val_loss: 1.0777 - val_accuracy: 0.6800 - lr: 0.0010\n",
            "Epoch 93/1000\n",
            "76/76 [==============================] - 0s 4ms/step - loss: 0.9215 - accuracy: 0.6826 - val_loss: 1.0245 - val_accuracy: 0.6889 - lr: 0.0010\n",
            "Epoch 94/1000\n",
            "76/76 [==============================] - 0s 4ms/step - loss: 0.8530 - accuracy: 0.7023 - val_loss: 1.0299 - val_accuracy: 0.6489 - lr: 0.0010\n",
            "Epoch 95/1000\n",
            "76/76 [==============================] - 0s 4ms/step - loss: 0.8733 - accuracy: 0.6879 - val_loss: 0.9935 - val_accuracy: 0.6800 - lr: 0.0010\n",
            "Epoch 96/1000\n",
            "76/76 [==============================] - 0s 4ms/step - loss: 0.8709 - accuracy: 0.6842 - val_loss: 1.0264 - val_accuracy: 0.6711 - lr: 0.0010\n",
            "Epoch 97/1000\n",
            "76/76 [==============================] - 0s 4ms/step - loss: 0.8805 - accuracy: 0.6957 - val_loss: 0.9974 - val_accuracy: 0.6844 - lr: 0.0010\n",
            "Epoch 98/1000\n",
            "76/76 [==============================] - 0s 4ms/step - loss: 0.8521 - accuracy: 0.6928 - val_loss: 1.0323 - val_accuracy: 0.6978 - lr: 0.0010\n",
            "Epoch 99/1000\n",
            "76/76 [==============================] - 0s 4ms/step - loss: 0.8426 - accuracy: 0.7002 - val_loss: 1.0646 - val_accuracy: 0.6889 - lr: 0.0010\n",
            "Epoch 100/1000\n",
            "76/76 [==============================] - 0s 4ms/step - loss: 0.8772 - accuracy: 0.7035 - val_loss: 1.0528 - val_accuracy: 0.7067 - lr: 0.0010\n",
            "Epoch 101/1000\n",
            "76/76 [==============================] - 0s 4ms/step - loss: 0.9923 - accuracy: 0.6727 - val_loss: 1.0022 - val_accuracy: 0.6711 - lr: 0.0010\n",
            "Epoch 102/1000\n",
            "76/76 [==============================] - 0s 4ms/step - loss: 0.8806 - accuracy: 0.6896 - val_loss: 0.9530 - val_accuracy: 0.6889 - lr: 0.0010\n",
            "Epoch 103/1000\n",
            "76/76 [==============================] - 0s 4ms/step - loss: 0.8987 - accuracy: 0.6912 - val_loss: 1.0493 - val_accuracy: 0.6533 - lr: 0.0010\n",
            "Epoch 104/1000\n",
            "76/76 [==============================] - 0s 4ms/step - loss: 0.9862 - accuracy: 0.6756 - val_loss: 0.9492 - val_accuracy: 0.6756 - lr: 0.0010\n",
            "Epoch 105/1000\n",
            "76/76 [==============================] - 0s 4ms/step - loss: 0.9055 - accuracy: 0.6760 - val_loss: 1.0938 - val_accuracy: 0.6489 - lr: 0.0010\n",
            "Epoch 106/1000\n",
            "76/76 [==============================] - 0s 4ms/step - loss: 0.8669 - accuracy: 0.6957 - val_loss: 0.9839 - val_accuracy: 0.6933 - lr: 0.0010\n",
            "Epoch 107/1000\n",
            "76/76 [==============================] - 0s 4ms/step - loss: 0.8744 - accuracy: 0.6986 - val_loss: 0.9407 - val_accuracy: 0.6844 - lr: 0.0010\n",
            "Epoch 108/1000\n",
            "76/76 [==============================] - 0s 4ms/step - loss: 0.9367 - accuracy: 0.6867 - val_loss: 1.0459 - val_accuracy: 0.6533 - lr: 0.0010\n",
            "Epoch 109/1000\n",
            "76/76 [==============================] - 0s 4ms/step - loss: 0.9887 - accuracy: 0.6739 - val_loss: 1.1830 - val_accuracy: 0.6800 - lr: 0.0010\n",
            "Epoch 110/1000\n",
            "76/76 [==============================] - 0s 4ms/step - loss: 0.9216 - accuracy: 0.6920 - val_loss: 0.9518 - val_accuracy: 0.7022 - lr: 0.0010\n",
            "Epoch 111/1000\n",
            "76/76 [==============================] - 0s 4ms/step - loss: 0.8503 - accuracy: 0.6998 - val_loss: 0.9657 - val_accuracy: 0.6889 - lr: 0.0010\n",
            "Epoch 112/1000\n",
            "76/76 [==============================] - 0s 4ms/step - loss: 0.8416 - accuracy: 0.6986 - val_loss: 1.0777 - val_accuracy: 0.7067 - lr: 0.0010\n",
            "Epoch 113/1000\n",
            "76/76 [==============================] - 0s 4ms/step - loss: 0.8186 - accuracy: 0.7093 - val_loss: 1.0951 - val_accuracy: 0.6933 - lr: 0.0010\n",
            "Epoch 114/1000\n",
            "76/76 [==============================] - 0s 4ms/step - loss: 0.8307 - accuracy: 0.7044 - val_loss: 1.0767 - val_accuracy: 0.6889 - lr: 0.0010\n",
            "Epoch 115/1000\n",
            "76/76 [==============================] - 0s 4ms/step - loss: 0.8038 - accuracy: 0.7097 - val_loss: 1.0936 - val_accuracy: 0.7067 - lr: 0.0010\n",
            "Epoch 116/1000\n",
            "76/76 [==============================] - 0s 4ms/step - loss: 0.8441 - accuracy: 0.7105 - val_loss: 1.0238 - val_accuracy: 0.7067 - lr: 0.0010\n",
            "Epoch 117/1000\n",
            "76/76 [==============================] - 0s 4ms/step - loss: 0.8427 - accuracy: 0.7052 - val_loss: 1.1028 - val_accuracy: 0.6800 - lr: 0.0010\n",
            "Epoch 118/1000\n",
            "76/76 [==============================] - 0s 4ms/step - loss: 0.8590 - accuracy: 0.7064 - val_loss: 1.1045 - val_accuracy: 0.6711 - lr: 0.0010\n",
            "Epoch 119/1000\n",
            "76/76 [==============================] - 0s 4ms/step - loss: 0.9546 - accuracy: 0.6830 - val_loss: 1.0744 - val_accuracy: 0.6578 - lr: 0.0010\n",
            "Epoch 120/1000\n",
            "76/76 [==============================] - 0s 4ms/step - loss: 0.8838 - accuracy: 0.6957 - val_loss: 0.9959 - val_accuracy: 0.6978 - lr: 0.0010\n",
            "Epoch 121/1000\n",
            "76/76 [==============================] - 0s 4ms/step - loss: 0.8117 - accuracy: 0.7183 - val_loss: 1.0043 - val_accuracy: 0.6978 - lr: 0.0010\n",
            "Epoch 122/1000\n",
            "76/76 [==============================] - 0s 4ms/step - loss: 0.8724 - accuracy: 0.6990 - val_loss: 1.1290 - val_accuracy: 0.6711 - lr: 0.0010\n",
            "Epoch 123/1000\n",
            "76/76 [==============================] - 0s 5ms/step - loss: 0.8716 - accuracy: 0.6978 - val_loss: 1.0241 - val_accuracy: 0.6667 - lr: 0.0010\n",
            "Epoch 124/1000\n",
            "76/76 [==============================] - 0s 4ms/step - loss: 0.8007 - accuracy: 0.7076 - val_loss: 1.1149 - val_accuracy: 0.6844 - lr: 0.0010\n",
            "Epoch 125/1000\n",
            "76/76 [==============================] - 0s 4ms/step - loss: 0.7985 - accuracy: 0.7183 - val_loss: 0.9624 - val_accuracy: 0.6978 - lr: 0.0010\n",
            "Epoch 126/1000\n",
            "76/76 [==============================] - 0s 4ms/step - loss: 0.7924 - accuracy: 0.7130 - val_loss: 1.0231 - val_accuracy: 0.6978 - lr: 0.0010\n",
            "Epoch 127/1000\n",
            "76/76 [==============================] - 0s 4ms/step - loss: 0.8003 - accuracy: 0.7113 - val_loss: 1.1716 - val_accuracy: 0.6711 - lr: 0.0010\n",
            "Epoch 128/1000\n",
            "76/76 [==============================] - 0s 4ms/step - loss: 0.8893 - accuracy: 0.7011 - val_loss: 1.0436 - val_accuracy: 0.6844 - lr: 0.0010\n",
            "Epoch 129/1000\n",
            "76/76 [==============================] - 0s 4ms/step - loss: 0.8550 - accuracy: 0.7093 - val_loss: 1.0994 - val_accuracy: 0.6711 - lr: 0.0010\n",
            "Epoch 130/1000\n",
            "76/76 [==============================] - 0s 4ms/step - loss: 0.7888 - accuracy: 0.7134 - val_loss: 1.0100 - val_accuracy: 0.6889 - lr: 0.0010\n",
            "Epoch 131/1000\n",
            "76/76 [==============================] - 0s 4ms/step - loss: 0.7958 - accuracy: 0.7220 - val_loss: 1.0162 - val_accuracy: 0.7111 - lr: 5.0000e-04\n",
            "Epoch 132/1000\n",
            "76/76 [==============================] - 0s 4ms/step - loss: 0.7587 - accuracy: 0.7331 - val_loss: 1.0044 - val_accuracy: 0.6978 - lr: 5.0000e-04\n",
            "Epoch 133/1000\n",
            "76/76 [==============================] - 0s 4ms/step - loss: 0.7438 - accuracy: 0.7216 - val_loss: 0.9938 - val_accuracy: 0.6933 - lr: 5.0000e-04\n",
            "Epoch 134/1000\n",
            "76/76 [==============================] - 0s 4ms/step - loss: 0.7368 - accuracy: 0.7270 - val_loss: 0.9957 - val_accuracy: 0.7067 - lr: 5.0000e-04\n",
            "Epoch 135/1000\n",
            "76/76 [==============================] - 0s 4ms/step - loss: 0.7367 - accuracy: 0.7344 - val_loss: 1.0201 - val_accuracy: 0.7200 - lr: 5.0000e-04\n",
            "Epoch 136/1000\n",
            "76/76 [==============================] - 0s 5ms/step - loss: 0.7255 - accuracy: 0.7438 - val_loss: 1.0301 - val_accuracy: 0.7289 - lr: 5.0000e-04\n",
            "Epoch 137/1000\n",
            "76/76 [==============================] - 0s 4ms/step - loss: 0.7393 - accuracy: 0.7352 - val_loss: 0.9828 - val_accuracy: 0.7156 - lr: 5.0000e-04\n",
            "Epoch 138/1000\n",
            "76/76 [==============================] - 0s 4ms/step - loss: 0.7431 - accuracy: 0.7356 - val_loss: 1.0323 - val_accuracy: 0.7111 - lr: 5.0000e-04\n",
            "Epoch 139/1000\n",
            "76/76 [==============================] - 0s 4ms/step - loss: 0.7269 - accuracy: 0.7311 - val_loss: 1.0364 - val_accuracy: 0.7200 - lr: 5.0000e-04\n",
            "Epoch 140/1000\n",
            "76/76 [==============================] - 0s 4ms/step - loss: 0.7334 - accuracy: 0.7401 - val_loss: 0.9970 - val_accuracy: 0.7156 - lr: 5.0000e-04\n",
            "Epoch 141/1000\n",
            "76/76 [==============================] - 0s 4ms/step - loss: 0.7042 - accuracy: 0.7414 - val_loss: 1.0347 - val_accuracy: 0.7022 - lr: 5.0000e-04\n",
            "Epoch 142/1000\n",
            "76/76 [==============================] - 0s 4ms/step - loss: 0.7198 - accuracy: 0.7397 - val_loss: 1.0303 - val_accuracy: 0.7156 - lr: 5.0000e-04\n",
            "Epoch 143/1000\n",
            "76/76 [==============================] - 0s 4ms/step - loss: 0.7145 - accuracy: 0.7364 - val_loss: 1.0314 - val_accuracy: 0.7067 - lr: 5.0000e-04\n",
            "Epoch 144/1000\n",
            "76/76 [==============================] - 0s 4ms/step - loss: 0.7336 - accuracy: 0.7368 - val_loss: 1.0271 - val_accuracy: 0.7111 - lr: 5.0000e-04\n",
            "Epoch 145/1000\n",
            "76/76 [==============================] - 0s 4ms/step - loss: 0.7251 - accuracy: 0.7537 - val_loss: 1.0113 - val_accuracy: 0.7111 - lr: 5.0000e-04\n",
            "Epoch 146/1000\n",
            "76/76 [==============================] - 0s 4ms/step - loss: 0.7219 - accuracy: 0.7377 - val_loss: 1.0460 - val_accuracy: 0.6933 - lr: 5.0000e-04\n",
            "Epoch 147/1000\n",
            "76/76 [==============================] - 0s 4ms/step - loss: 0.7185 - accuracy: 0.7442 - val_loss: 1.0260 - val_accuracy: 0.6978 - lr: 5.0000e-04\n",
            "Epoch 148/1000\n",
            "76/76 [==============================] - 0s 4ms/step - loss: 0.6984 - accuracy: 0.7426 - val_loss: 1.0524 - val_accuracy: 0.7156 - lr: 5.0000e-04\n",
            "Epoch 149/1000\n",
            "76/76 [==============================] - 0s 4ms/step - loss: 0.6713 - accuracy: 0.7578 - val_loss: 1.0757 - val_accuracy: 0.7244 - lr: 5.0000e-04\n",
            "Epoch 150/1000\n",
            "76/76 [==============================] - 0s 4ms/step - loss: 0.6960 - accuracy: 0.7479 - val_loss: 0.9923 - val_accuracy: 0.7111 - lr: 5.0000e-04\n",
            "Epoch 151/1000\n",
            "76/76 [==============================] - 0s 4ms/step - loss: 0.7096 - accuracy: 0.7537 - val_loss: 0.9981 - val_accuracy: 0.7111 - lr: 5.0000e-04\n",
            "Epoch 152/1000\n",
            "76/76 [==============================] - 0s 4ms/step - loss: 0.7201 - accuracy: 0.7471 - val_loss: 0.9607 - val_accuracy: 0.7156 - lr: 5.0000e-04\n",
            "Epoch 153/1000\n",
            "76/76 [==============================] - 0s 4ms/step - loss: 0.6904 - accuracy: 0.7508 - val_loss: 1.0260 - val_accuracy: 0.7200 - lr: 5.0000e-04\n",
            "Epoch 154/1000\n",
            "76/76 [==============================] - 0s 4ms/step - loss: 0.7001 - accuracy: 0.7512 - val_loss: 0.9817 - val_accuracy: 0.7244 - lr: 5.0000e-04\n",
            "Epoch 155/1000\n",
            "76/76 [==============================] - 0s 4ms/step - loss: 0.7235 - accuracy: 0.7422 - val_loss: 1.0524 - val_accuracy: 0.7111 - lr: 5.0000e-04\n",
            "Epoch 156/1000\n",
            "76/76 [==============================] - 0s 4ms/step - loss: 0.6927 - accuracy: 0.7479 - val_loss: 1.1713 - val_accuracy: 0.7244 - lr: 5.0000e-04\n",
            "Epoch 157/1000\n",
            "76/76 [==============================] - 0s 4ms/step - loss: 0.6866 - accuracy: 0.7549 - val_loss: 1.2252 - val_accuracy: 0.7289 - lr: 5.0000e-04\n",
            "Epoch 158/1000\n",
            "76/76 [==============================] - 0s 4ms/step - loss: 0.6728 - accuracy: 0.7558 - val_loss: 1.1814 - val_accuracy: 0.7333 - lr: 5.0000e-04\n",
            "Epoch 159/1000\n",
            "76/76 [==============================] - 0s 4ms/step - loss: 0.6918 - accuracy: 0.7463 - val_loss: 1.1871 - val_accuracy: 0.7156 - lr: 5.0000e-04\n",
            "Epoch 160/1000\n",
            "76/76 [==============================] - 0s 4ms/step - loss: 0.6929 - accuracy: 0.7479 - val_loss: 1.0063 - val_accuracy: 0.7156 - lr: 5.0000e-04\n",
            "Epoch 161/1000\n",
            "76/76 [==============================] - 0s 4ms/step - loss: 0.6870 - accuracy: 0.7553 - val_loss: 1.0374 - val_accuracy: 0.7111 - lr: 5.0000e-04\n",
            "Epoch 162/1000\n",
            "76/76 [==============================] - 0s 4ms/step - loss: 0.6662 - accuracy: 0.7529 - val_loss: 1.0216 - val_accuracy: 0.7244 - lr: 5.0000e-04\n",
            "Epoch 163/1000\n",
            "76/76 [==============================] - 0s 4ms/step - loss: 0.6743 - accuracy: 0.7549 - val_loss: 1.2281 - val_accuracy: 0.7289 - lr: 5.0000e-04\n",
            "Epoch 164/1000\n",
            "76/76 [==============================] - 0s 5ms/step - loss: 0.7085 - accuracy: 0.7529 - val_loss: 1.2315 - val_accuracy: 0.7156 - lr: 5.0000e-04\n",
            "Epoch 165/1000\n",
            "76/76 [==============================] - 0s 4ms/step - loss: 0.6900 - accuracy: 0.7467 - val_loss: 1.0615 - val_accuracy: 0.7200 - lr: 5.0000e-04\n",
            "Epoch 166/1000\n",
            "76/76 [==============================] - 0s 4ms/step - loss: 0.6759 - accuracy: 0.7673 - val_loss: 1.0617 - val_accuracy: 0.7333 - lr: 5.0000e-04\n",
            "Epoch 167/1000\n",
            "76/76 [==============================] - 0s 4ms/step - loss: 0.6518 - accuracy: 0.7595 - val_loss: 1.0922 - val_accuracy: 0.7067 - lr: 5.0000e-04\n",
            "Epoch 168/1000\n",
            "76/76 [==============================] - 0s 4ms/step - loss: 0.6564 - accuracy: 0.7664 - val_loss: 1.1090 - val_accuracy: 0.7156 - lr: 5.0000e-04\n",
            "Epoch 169/1000\n",
            "76/76 [==============================] - 0s 4ms/step - loss: 0.6889 - accuracy: 0.7574 - val_loss: 1.1349 - val_accuracy: 0.7200 - lr: 5.0000e-04\n",
            "Epoch 170/1000\n",
            "76/76 [==============================] - 0s 4ms/step - loss: 0.6868 - accuracy: 0.7525 - val_loss: 1.0054 - val_accuracy: 0.7244 - lr: 5.0000e-04\n",
            "Epoch 171/1000\n",
            "76/76 [==============================] - 0s 4ms/step - loss: 0.6892 - accuracy: 0.7545 - val_loss: 0.9881 - val_accuracy: 0.7333 - lr: 5.0000e-04\n",
            "Epoch 172/1000\n",
            "76/76 [==============================] - 0s 4ms/step - loss: 0.6712 - accuracy: 0.7590 - val_loss: 1.0113 - val_accuracy: 0.7156 - lr: 5.0000e-04\n",
            "Epoch 173/1000\n",
            "76/76 [==============================] - 0s 4ms/step - loss: 0.6663 - accuracy: 0.7590 - val_loss: 1.0403 - val_accuracy: 0.7467 - lr: 5.0000e-04\n",
            "Epoch 174/1000\n",
            "76/76 [==============================] - 0s 4ms/step - loss: 0.6555 - accuracy: 0.7595 - val_loss: 1.0385 - val_accuracy: 0.7289 - lr: 5.0000e-04\n",
            "Epoch 175/1000\n",
            "76/76 [==============================] - 0s 4ms/step - loss: 0.6703 - accuracy: 0.7627 - val_loss: 1.0962 - val_accuracy: 0.7067 - lr: 5.0000e-04\n",
            "Epoch 176/1000\n",
            "76/76 [==============================] - 0s 4ms/step - loss: 0.6767 - accuracy: 0.7562 - val_loss: 1.0999 - val_accuracy: 0.6978 - lr: 5.0000e-04\n",
            "Epoch 177/1000\n",
            "76/76 [==============================] - 0s 4ms/step - loss: 0.6555 - accuracy: 0.7553 - val_loss: 1.1523 - val_accuracy: 0.7200 - lr: 5.0000e-04\n",
            "Epoch 178/1000\n",
            "76/76 [==============================] - 0s 4ms/step - loss: 0.6652 - accuracy: 0.7599 - val_loss: 1.1070 - val_accuracy: 0.7333 - lr: 5.0000e-04\n",
            "Epoch 179/1000\n",
            "76/76 [==============================] - 0s 5ms/step - loss: 0.7429 - accuracy: 0.7410 - val_loss: 0.9529 - val_accuracy: 0.7111 - lr: 5.0000e-04\n",
            "Epoch 180/1000\n",
            "76/76 [==============================] - 0s 4ms/step - loss: 0.6873 - accuracy: 0.7586 - val_loss: 1.0256 - val_accuracy: 0.7022 - lr: 5.0000e-04\n",
            "Epoch 181/1000\n",
            "76/76 [==============================] - 0s 4ms/step - loss: 0.6522 - accuracy: 0.7590 - val_loss: 1.0382 - val_accuracy: 0.7111 - lr: 5.0000e-04\n",
            "Epoch 182/1000\n",
            "76/76 [==============================] - 0s 4ms/step - loss: 0.6332 - accuracy: 0.7640 - val_loss: 1.0215 - val_accuracy: 0.7289 - lr: 5.0000e-04\n",
            "Epoch 183/1000\n",
            "76/76 [==============================] - 0s 4ms/step - loss: 0.6380 - accuracy: 0.7697 - val_loss: 1.0317 - val_accuracy: 0.7289 - lr: 5.0000e-04\n",
            "Epoch 184/1000\n",
            "76/76 [==============================] - 0s 4ms/step - loss: 0.6814 - accuracy: 0.7615 - val_loss: 1.0497 - val_accuracy: 0.7289 - lr: 5.0000e-04\n",
            "Epoch 185/1000\n",
            "76/76 [==============================] - 0s 4ms/step - loss: 0.6275 - accuracy: 0.7706 - val_loss: 1.0892 - val_accuracy: 0.7378 - lr: 5.0000e-04\n",
            "Epoch 186/1000\n",
            "76/76 [==============================] - 0s 4ms/step - loss: 0.6381 - accuracy: 0.7701 - val_loss: 1.0877 - val_accuracy: 0.7244 - lr: 5.0000e-04\n",
            "Epoch 187/1000\n",
            "76/76 [==============================] - 0s 4ms/step - loss: 0.6311 - accuracy: 0.7570 - val_loss: 1.0506 - val_accuracy: 0.7289 - lr: 5.0000e-04\n",
            "Epoch 188/1000\n",
            "76/76 [==============================] - 0s 4ms/step - loss: 0.6626 - accuracy: 0.7759 - val_loss: 1.2584 - val_accuracy: 0.6933 - lr: 5.0000e-04\n",
            "Epoch 189/1000\n",
            "76/76 [==============================] - 0s 4ms/step - loss: 0.7185 - accuracy: 0.7479 - val_loss: 1.0167 - val_accuracy: 0.7289 - lr: 5.0000e-04\n",
            "Epoch 190/1000\n",
            "76/76 [==============================] - 0s 4ms/step - loss: 0.6569 - accuracy: 0.7701 - val_loss: 1.0265 - val_accuracy: 0.7333 - lr: 5.0000e-04\n",
            "Epoch 191/1000\n",
            "76/76 [==============================] - 0s 4ms/step - loss: 0.6440 - accuracy: 0.7730 - val_loss: 1.0397 - val_accuracy: 0.7156 - lr: 5.0000e-04\n",
            "Epoch 192/1000\n",
            "76/76 [==============================] - 0s 4ms/step - loss: 0.6138 - accuracy: 0.7755 - val_loss: 1.0251 - val_accuracy: 0.7378 - lr: 5.0000e-04\n",
            "Epoch 193/1000\n",
            "76/76 [==============================] - 0s 4ms/step - loss: 0.6190 - accuracy: 0.7722 - val_loss: 1.0498 - val_accuracy: 0.7244 - lr: 5.0000e-04\n",
            "Epoch 194/1000\n",
            "76/76 [==============================] - 0s 4ms/step - loss: 0.6288 - accuracy: 0.7710 - val_loss: 1.0361 - val_accuracy: 0.7289 - lr: 5.0000e-04\n",
            "Epoch 195/1000\n",
            "76/76 [==============================] - 0s 4ms/step - loss: 0.6379 - accuracy: 0.7685 - val_loss: 1.0425 - val_accuracy: 0.7289 - lr: 5.0000e-04\n",
            "Epoch 196/1000\n",
            "76/76 [==============================] - 0s 4ms/step - loss: 0.6260 - accuracy: 0.7771 - val_loss: 1.0514 - val_accuracy: 0.7244 - lr: 5.0000e-04\n",
            "Epoch 197/1000\n",
            "76/76 [==============================] - 0s 4ms/step - loss: 0.6537 - accuracy: 0.7640 - val_loss: 1.0314 - val_accuracy: 0.7111 - lr: 5.0000e-04\n",
            "Epoch 198/1000\n",
            "76/76 [==============================] - 0s 4ms/step - loss: 0.6947 - accuracy: 0.7734 - val_loss: 1.0764 - val_accuracy: 0.7378 - lr: 5.0000e-04\n",
            "Epoch 199/1000\n",
            "76/76 [==============================] - 0s 4ms/step - loss: 0.6631 - accuracy: 0.7656 - val_loss: 1.0530 - val_accuracy: 0.7289 - lr: 5.0000e-04\n",
            "Epoch 200/1000\n",
            "76/76 [==============================] - 0s 4ms/step - loss: 0.6280 - accuracy: 0.7784 - val_loss: 1.0540 - val_accuracy: 0.7156 - lr: 5.0000e-04\n",
            "Epoch 201/1000\n",
            "76/76 [==============================] - 0s 4ms/step - loss: 0.6211 - accuracy: 0.7796 - val_loss: 1.0570 - val_accuracy: 0.7111 - lr: 5.0000e-04\n",
            "Epoch 202/1000\n",
            "76/76 [==============================] - 0s 4ms/step - loss: 0.6063 - accuracy: 0.7759 - val_loss: 1.0644 - val_accuracy: 0.7156 - lr: 5.0000e-04\n",
            "Epoch 203/1000\n",
            "76/76 [==============================] - 0s 4ms/step - loss: 0.6308 - accuracy: 0.7734 - val_loss: 1.0703 - val_accuracy: 0.7378 - lr: 5.0000e-04\n",
            "Epoch 204/1000\n",
            "76/76 [==============================] - 0s 4ms/step - loss: 0.6115 - accuracy: 0.7747 - val_loss: 1.0725 - val_accuracy: 0.7289 - lr: 2.5000e-04\n",
            "Epoch 205/1000\n",
            "76/76 [==============================] - 0s 4ms/step - loss: 0.6079 - accuracy: 0.7792 - val_loss: 1.0665 - val_accuracy: 0.7511 - lr: 2.5000e-04\n",
            "Epoch 206/1000\n",
            "76/76 [==============================] - 0s 4ms/step - loss: 0.5919 - accuracy: 0.7833 - val_loss: 1.0630 - val_accuracy: 0.7422 - lr: 2.5000e-04\n",
            "Epoch 207/1000\n",
            "76/76 [==============================] - 0s 5ms/step - loss: 0.6245 - accuracy: 0.7734 - val_loss: 1.0737 - val_accuracy: 0.7289 - lr: 2.5000e-04\n",
            "Epoch 208/1000\n",
            "76/76 [==============================] - 0s 4ms/step - loss: 0.6259 - accuracy: 0.7644 - val_loss: 1.0691 - val_accuracy: 0.7422 - lr: 2.5000e-04\n",
            "Epoch 209/1000\n",
            "76/76 [==============================] - 0s 4ms/step - loss: 0.5984 - accuracy: 0.7771 - val_loss: 1.0986 - val_accuracy: 0.7244 - lr: 2.5000e-04\n",
            "Epoch 210/1000\n",
            "76/76 [==============================] - 0s 4ms/step - loss: 0.6026 - accuracy: 0.7845 - val_loss: 1.0895 - val_accuracy: 0.7156 - lr: 2.5000e-04\n",
            "Epoch 211/1000\n",
            "76/76 [==============================] - 0s 4ms/step - loss: 0.6021 - accuracy: 0.7812 - val_loss: 1.0840 - val_accuracy: 0.7333 - lr: 2.5000e-04\n",
            "Epoch 212/1000\n",
            "76/76 [==============================] - 0s 4ms/step - loss: 0.6035 - accuracy: 0.7812 - val_loss: 1.0931 - val_accuracy: 0.7422 - lr: 2.5000e-04\n",
            "Epoch 213/1000\n",
            "76/76 [==============================] - 0s 4ms/step - loss: 0.5918 - accuracy: 0.7796 - val_loss: 1.1020 - val_accuracy: 0.7422 - lr: 2.5000e-04\n",
            "Epoch 214/1000\n",
            "76/76 [==============================] - 0s 4ms/step - loss: 0.5944 - accuracy: 0.7837 - val_loss: 1.1039 - val_accuracy: 0.7333 - lr: 2.5000e-04\n",
            "Epoch 215/1000\n",
            "76/76 [==============================] - 0s 4ms/step - loss: 0.5975 - accuracy: 0.7845 - val_loss: 1.1230 - val_accuracy: 0.7333 - lr: 2.5000e-04\n",
            "Epoch 216/1000\n",
            "76/76 [==============================] - 0s 4ms/step - loss: 0.6146 - accuracy: 0.7817 - val_loss: 1.0678 - val_accuracy: 0.7333 - lr: 2.5000e-04\n",
            "Epoch 217/1000\n",
            "76/76 [==============================] - 0s 4ms/step - loss: 0.6020 - accuracy: 0.7759 - val_loss: 1.0769 - val_accuracy: 0.7556 - lr: 2.5000e-04\n",
            "Epoch 218/1000\n",
            "76/76 [==============================] - 0s 5ms/step - loss: 0.6000 - accuracy: 0.7837 - val_loss: 1.0670 - val_accuracy: 0.7378 - lr: 2.5000e-04\n",
            "Epoch 219/1000\n",
            "76/76 [==============================] - 0s 4ms/step - loss: 0.5905 - accuracy: 0.7878 - val_loss: 1.0435 - val_accuracy: 0.7378 - lr: 2.5000e-04\n",
            "Epoch 220/1000\n",
            "76/76 [==============================] - 0s 4ms/step - loss: 0.5722 - accuracy: 0.7973 - val_loss: 1.0464 - val_accuracy: 0.7511 - lr: 2.5000e-04\n",
            "Epoch 221/1000\n",
            "76/76 [==============================] - 0s 4ms/step - loss: 0.5919 - accuracy: 0.7878 - val_loss: 1.0478 - val_accuracy: 0.7467 - lr: 2.5000e-04\n",
            "Epoch 222/1000\n",
            "76/76 [==============================] - 0s 4ms/step - loss: 0.5792 - accuracy: 0.7903 - val_loss: 1.0714 - val_accuracy: 0.7289 - lr: 2.5000e-04\n",
            "Epoch 223/1000\n",
            "76/76 [==============================] - 0s 4ms/step - loss: 0.5867 - accuracy: 0.7800 - val_loss: 1.0617 - val_accuracy: 0.7289 - lr: 2.5000e-04\n",
            "Epoch 224/1000\n",
            "76/76 [==============================] - 0s 4ms/step - loss: 0.6014 - accuracy: 0.7784 - val_loss: 1.0512 - val_accuracy: 0.7333 - lr: 2.5000e-04\n",
            "Epoch 225/1000\n",
            "76/76 [==============================] - 0s 4ms/step - loss: 0.5757 - accuracy: 0.7895 - val_loss: 1.0510 - val_accuracy: 0.7333 - lr: 2.5000e-04\n",
            "Epoch 226/1000\n",
            "76/76 [==============================] - 0s 4ms/step - loss: 0.5700 - accuracy: 0.7821 - val_loss: 1.0441 - val_accuracy: 0.7244 - lr: 2.5000e-04\n",
            "Epoch 227/1000\n",
            "76/76 [==============================] - 0s 4ms/step - loss: 0.5765 - accuracy: 0.7854 - val_loss: 1.0541 - val_accuracy: 0.7511 - lr: 2.5000e-04\n",
            "Epoch 228/1000\n",
            "76/76 [==============================] - 0s 4ms/step - loss: 0.5744 - accuracy: 0.7924 - val_loss: 1.0528 - val_accuracy: 0.7333 - lr: 2.5000e-04\n",
            "Epoch 229/1000\n",
            "76/76 [==============================] - 0s 4ms/step - loss: 0.5854 - accuracy: 0.7870 - val_loss: 1.0567 - val_accuracy: 0.7244 - lr: 2.5000e-04\n",
            "Epoch 230/1000\n",
            "76/76 [==============================] - 0s 5ms/step - loss: 0.5679 - accuracy: 0.7940 - val_loss: 1.0618 - val_accuracy: 0.7333 - lr: 2.5000e-04\n",
            "Epoch 231/1000\n",
            "76/76 [==============================] - 0s 4ms/step - loss: 0.5661 - accuracy: 0.7911 - val_loss: 1.0680 - val_accuracy: 0.7378 - lr: 2.5000e-04\n",
            "Epoch 232/1000\n",
            "76/76 [==============================] - 0s 4ms/step - loss: 0.5843 - accuracy: 0.7911 - val_loss: 1.1031 - val_accuracy: 0.7333 - lr: 2.5000e-04\n",
            "Epoch 233/1000\n",
            "76/76 [==============================] - 0s 4ms/step - loss: 0.5823 - accuracy: 0.7845 - val_loss: 1.0684 - val_accuracy: 0.7556 - lr: 2.5000e-04\n",
            "Epoch 234/1000\n",
            "76/76 [==============================] - 0s 4ms/step - loss: 0.6008 - accuracy: 0.7919 - val_loss: 1.0764 - val_accuracy: 0.7511 - lr: 2.5000e-04\n",
            "Epoch 235/1000\n",
            "76/76 [==============================] - 0s 4ms/step - loss: 0.5864 - accuracy: 0.7973 - val_loss: 1.0801 - val_accuracy: 0.7378 - lr: 2.5000e-04\n",
            "Epoch 236/1000\n",
            "76/76 [==============================] - 0s 4ms/step - loss: 0.6145 - accuracy: 0.7837 - val_loss: 1.1160 - val_accuracy: 0.7156 - lr: 2.5000e-04\n",
            "Epoch 237/1000\n",
            "76/76 [==============================] - 0s 4ms/step - loss: 0.5971 - accuracy: 0.7862 - val_loss: 1.0043 - val_accuracy: 0.7422 - lr: 2.5000e-04\n",
            "Epoch 238/1000\n",
            "76/76 [==============================] - 0s 4ms/step - loss: 0.5729 - accuracy: 0.7965 - val_loss: 1.0200 - val_accuracy: 0.7378 - lr: 2.5000e-04\n",
            "Epoch 239/1000\n",
            "76/76 [==============================] - 0s 4ms/step - loss: 0.5831 - accuracy: 0.7817 - val_loss: 1.0293 - val_accuracy: 0.7422 - lr: 2.5000e-04\n",
            "Epoch 240/1000\n",
            "76/76 [==============================] - 0s 4ms/step - loss: 0.5734 - accuracy: 0.7956 - val_loss: 1.0415 - val_accuracy: 0.7556 - lr: 2.5000e-04\n",
            "Epoch 241/1000\n",
            "76/76 [==============================] - 0s 4ms/step - loss: 0.5534 - accuracy: 0.7924 - val_loss: 1.0466 - val_accuracy: 0.7467 - lr: 2.5000e-04\n",
            "Epoch 242/1000\n",
            "76/76 [==============================] - 0s 4ms/step - loss: 0.5855 - accuracy: 0.7870 - val_loss: 1.0575 - val_accuracy: 0.7556 - lr: 2.5000e-04\n",
            "Epoch 243/1000\n",
            "76/76 [==============================] - 0s 4ms/step - loss: 0.5815 - accuracy: 0.7915 - val_loss: 1.0348 - val_accuracy: 0.7467 - lr: 2.5000e-04\n",
            "Epoch 244/1000\n",
            "76/76 [==============================] - 0s 5ms/step - loss: 0.5653 - accuracy: 0.7895 - val_loss: 1.0403 - val_accuracy: 0.7556 - lr: 2.5000e-04\n",
            "Epoch 245/1000\n",
            "76/76 [==============================] - 0s 4ms/step - loss: 0.5613 - accuracy: 0.7915 - val_loss: 1.0422 - val_accuracy: 0.7600 - lr: 2.5000e-04\n",
            "Epoch 246/1000\n",
            "76/76 [==============================] - 0s 4ms/step - loss: 0.5645 - accuracy: 0.7973 - val_loss: 1.0509 - val_accuracy: 0.7511 - lr: 2.5000e-04\n",
            "Epoch 247/1000\n",
            "76/76 [==============================] - 0s 4ms/step - loss: 0.5896 - accuracy: 0.7903 - val_loss: 1.0604 - val_accuracy: 0.7289 - lr: 2.5000e-04\n",
            "Epoch 248/1000\n",
            "76/76 [==============================] - 0s 4ms/step - loss: 0.5564 - accuracy: 0.7961 - val_loss: 1.0618 - val_accuracy: 0.7556 - lr: 2.5000e-04\n",
            "Epoch 249/1000\n",
            "76/76 [==============================] - 0s 5ms/step - loss: 0.5761 - accuracy: 0.7915 - val_loss: 1.0585 - val_accuracy: 0.7511 - lr: 2.5000e-04\n",
            "Epoch 250/1000\n",
            "76/76 [==============================] - 0s 4ms/step - loss: 0.5381 - accuracy: 0.7940 - val_loss: 1.0763 - val_accuracy: 0.7511 - lr: 2.5000e-04\n",
            "Epoch 251/1000\n",
            "76/76 [==============================] - 0s 5ms/step - loss: 0.5872 - accuracy: 0.7928 - val_loss: 1.0743 - val_accuracy: 0.7511 - lr: 2.5000e-04\n",
            "Epoch 252/1000\n",
            "76/76 [==============================] - 0s 4ms/step - loss: 0.5494 - accuracy: 0.7981 - val_loss: 1.0855 - val_accuracy: 0.7333 - lr: 2.5000e-04\n",
            "Epoch 253/1000\n",
            "76/76 [==============================] - 0s 5ms/step - loss: 0.5709 - accuracy: 0.7977 - val_loss: 1.0821 - val_accuracy: 0.7378 - lr: 2.5000e-04\n",
            "Epoch 254/1000\n",
            "76/76 [==============================] - 0s 6ms/step - loss: 0.5413 - accuracy: 0.8006 - val_loss: 1.1043 - val_accuracy: 0.7511 - lr: 2.5000e-04\n",
            "Epoch 255/1000\n",
            "76/76 [==============================] - 0s 6ms/step - loss: 0.5668 - accuracy: 0.7993 - val_loss: 1.0810 - val_accuracy: 0.7378 - lr: 2.5000e-04\n",
            "Epoch 256/1000\n",
            "76/76 [==============================] - 0s 6ms/step - loss: 0.5965 - accuracy: 0.8002 - val_loss: 1.3022 - val_accuracy: 0.7422 - lr: 2.5000e-04\n",
            "Epoch 257/1000\n",
            "76/76 [==============================] - 1s 7ms/step - loss: 0.5483 - accuracy: 0.7969 - val_loss: 1.1852 - val_accuracy: 0.7467 - lr: 2.5000e-04\n",
            "Epoch 258/1000\n",
            "76/76 [==============================] - 0s 6ms/step - loss: 0.5701 - accuracy: 0.7837 - val_loss: 1.0677 - val_accuracy: 0.7511 - lr: 2.5000e-04\n",
            "Epoch 259/1000\n",
            "76/76 [==============================] - 0s 6ms/step - loss: 0.5632 - accuracy: 0.8035 - val_loss: 1.1241 - val_accuracy: 0.7333 - lr: 2.5000e-04\n",
            "Epoch 260/1000\n",
            "76/76 [==============================] - 0s 6ms/step - loss: 0.5520 - accuracy: 0.8035 - val_loss: 1.1137 - val_accuracy: 0.7422 - lr: 2.5000e-04\n",
            "Epoch 261/1000\n",
            "76/76 [==============================] - 0s 6ms/step - loss: 0.5672 - accuracy: 0.8018 - val_loss: 1.0759 - val_accuracy: 0.7422 - lr: 2.5000e-04\n",
            "Epoch 262/1000\n",
            "76/76 [==============================] - 0s 4ms/step - loss: 0.5837 - accuracy: 0.8088 - val_loss: 1.0854 - val_accuracy: 0.7467 - lr: 2.5000e-04\n",
            "Epoch 263/1000\n",
            "76/76 [==============================] - 0s 4ms/step - loss: 0.5405 - accuracy: 0.8039 - val_loss: 1.0833 - val_accuracy: 0.7511 - lr: 2.5000e-04\n",
            "Epoch 264/1000\n",
            "76/76 [==============================] - 0s 4ms/step - loss: 0.5362 - accuracy: 0.8072 - val_loss: 1.1112 - val_accuracy: 0.7467 - lr: 2.5000e-04\n",
            "Epoch 265/1000\n",
            "76/76 [==============================] - 0s 4ms/step - loss: 0.5593 - accuracy: 0.7956 - val_loss: 1.1091 - val_accuracy: 0.7422 - lr: 2.5000e-04\n",
            "Epoch 266/1000\n",
            "76/76 [==============================] - 0s 5ms/step - loss: 0.5347 - accuracy: 0.8084 - val_loss: 1.0966 - val_accuracy: 0.7467 - lr: 2.5000e-04\n",
            "Epoch 267/1000\n",
            "76/76 [==============================] - 0s 4ms/step - loss: 0.5407 - accuracy: 0.7956 - val_loss: 1.1144 - val_accuracy: 0.7467 - lr: 2.5000e-04\n",
            "Epoch 268/1000\n",
            "76/76 [==============================] - 0s 4ms/step - loss: 0.5877 - accuracy: 0.7981 - val_loss: 1.0777 - val_accuracy: 0.7244 - lr: 2.5000e-04\n",
            "Epoch 269/1000\n",
            "76/76 [==============================] - 0s 4ms/step - loss: 0.5520 - accuracy: 0.8014 - val_loss: 1.0968 - val_accuracy: 0.7333 - lr: 2.5000e-04\n",
            "Epoch 270/1000\n",
            "76/76 [==============================] - 0s 4ms/step - loss: 0.5460 - accuracy: 0.8035 - val_loss: 1.0611 - val_accuracy: 0.7333 - lr: 2.5000e-04\n",
            "Epoch 271/1000\n",
            "76/76 [==============================] - 0s 4ms/step - loss: 0.5495 - accuracy: 0.7956 - val_loss: 1.0527 - val_accuracy: 0.7644 - lr: 2.5000e-04\n",
            "Epoch 272/1000\n",
            "76/76 [==============================] - 0s 4ms/step - loss: 0.5525 - accuracy: 0.8039 - val_loss: 1.1898 - val_accuracy: 0.7511 - lr: 2.5000e-04\n",
            "Epoch 273/1000\n",
            "76/76 [==============================] - 0s 4ms/step - loss: 0.5406 - accuracy: 0.7936 - val_loss: 1.1769 - val_accuracy: 0.7467 - lr: 2.5000e-04\n",
            "Epoch 274/1000\n",
            "76/76 [==============================] - 0s 4ms/step - loss: 0.5336 - accuracy: 0.8043 - val_loss: 1.1299 - val_accuracy: 0.7467 - lr: 2.5000e-04\n",
            "Epoch 275/1000\n",
            "76/76 [==============================] - 0s 4ms/step - loss: 0.5423 - accuracy: 0.7969 - val_loss: 1.1517 - val_accuracy: 0.7378 - lr: 2.5000e-04\n",
            "Epoch 276/1000\n",
            "76/76 [==============================] - 0s 4ms/step - loss: 0.6063 - accuracy: 0.7924 - val_loss: 1.0920 - val_accuracy: 0.7556 - lr: 2.5000e-04\n",
            "Epoch 277/1000\n",
            "76/76 [==============================] - 0s 4ms/step - loss: 0.5412 - accuracy: 0.7973 - val_loss: 1.1290 - val_accuracy: 0.7600 - lr: 2.5000e-04\n",
            "Epoch 278/1000\n",
            "76/76 [==============================] - 0s 4ms/step - loss: 0.5153 - accuracy: 0.8092 - val_loss: 1.1537 - val_accuracy: 0.7422 - lr: 2.5000e-04\n",
            "Epoch 279/1000\n",
            "76/76 [==============================] - 0s 5ms/step - loss: 0.5494 - accuracy: 0.7989 - val_loss: 1.1390 - val_accuracy: 0.7467 - lr: 2.5000e-04\n",
            "Epoch 280/1000\n",
            "76/76 [==============================] - 0s 5ms/step - loss: 0.5722 - accuracy: 0.7965 - val_loss: 1.1398 - val_accuracy: 0.7467 - lr: 2.5000e-04\n",
            "Epoch 281/1000\n",
            "76/76 [==============================] - 0s 4ms/step - loss: 0.5428 - accuracy: 0.8018 - val_loss: 1.1309 - val_accuracy: 0.7467 - lr: 2.5000e-04\n",
            "Epoch 282/1000\n",
            "76/76 [==============================] - 0s 4ms/step - loss: 0.5540 - accuracy: 0.7915 - val_loss: 1.1072 - val_accuracy: 0.7422 - lr: 2.5000e-04\n",
            "Epoch 283/1000\n",
            "76/76 [==============================] - 0s 4ms/step - loss: 0.5515 - accuracy: 0.8018 - val_loss: 1.1114 - val_accuracy: 0.7511 - lr: 2.5000e-04\n",
            "Epoch 284/1000\n",
            "76/76 [==============================] - 0s 4ms/step - loss: 0.5492 - accuracy: 0.8047 - val_loss: 1.1160 - val_accuracy: 0.7511 - lr: 2.5000e-04\n",
            "Epoch 285/1000\n",
            "76/76 [==============================] - 0s 4ms/step - loss: 0.5446 - accuracy: 0.8096 - val_loss: 1.3389 - val_accuracy: 0.7422 - lr: 2.5000e-04\n",
            "Epoch 286/1000\n",
            "76/76 [==============================] - 0s 4ms/step - loss: 0.5360 - accuracy: 0.7956 - val_loss: 1.1107 - val_accuracy: 0.7556 - lr: 2.5000e-04\n",
            "Epoch 287/1000\n",
            "76/76 [==============================] - 0s 4ms/step - loss: 0.5134 - accuracy: 0.8104 - val_loss: 1.1092 - val_accuracy: 0.7422 - lr: 2.5000e-04\n",
            "Epoch 288/1000\n",
            "76/76 [==============================] - 0s 4ms/step - loss: 0.5440 - accuracy: 0.7969 - val_loss: 1.1239 - val_accuracy: 0.7467 - lr: 2.5000e-04\n",
            "Epoch 289/1000\n",
            "76/76 [==============================] - 0s 4ms/step - loss: 0.5380 - accuracy: 0.8018 - val_loss: 1.1093 - val_accuracy: 0.7511 - lr: 2.5000e-04\n",
            "Epoch 290/1000\n",
            "76/76 [==============================] - 0s 4ms/step - loss: 0.5392 - accuracy: 0.7952 - val_loss: 1.0891 - val_accuracy: 0.7511 - lr: 2.5000e-04\n",
            "Epoch 291/1000\n",
            "76/76 [==============================] - 0s 4ms/step - loss: 0.5686 - accuracy: 0.8088 - val_loss: 1.0780 - val_accuracy: 0.7511 - lr: 2.5000e-04\n",
            "Epoch 292/1000\n",
            "76/76 [==============================] - 0s 4ms/step - loss: 0.5264 - accuracy: 0.8088 - val_loss: 1.0753 - val_accuracy: 0.7511 - lr: 2.5000e-04\n",
            "Epoch 293/1000\n",
            "76/76 [==============================] - 0s 4ms/step - loss: 0.5311 - accuracy: 0.8146 - val_loss: 1.0880 - val_accuracy: 0.7644 - lr: 2.5000e-04\n",
            "Epoch 294/1000\n",
            "76/76 [==============================] - 0s 4ms/step - loss: 0.5581 - accuracy: 0.7911 - val_loss: 1.2241 - val_accuracy: 0.7511 - lr: 2.5000e-04\n",
            "Epoch 295/1000\n",
            "76/76 [==============================] - 0s 5ms/step - loss: 0.5408 - accuracy: 0.8104 - val_loss: 1.1243 - val_accuracy: 0.7556 - lr: 2.5000e-04\n",
            "Epoch 296/1000\n",
            "76/76 [==============================] - 0s 4ms/step - loss: 0.5302 - accuracy: 0.7973 - val_loss: 1.1471 - val_accuracy: 0.7511 - lr: 2.5000e-04\n",
            "Epoch 297/1000\n",
            "76/76 [==============================] - 0s 5ms/step - loss: 0.5313 - accuracy: 0.8051 - val_loss: 1.1314 - val_accuracy: 0.7467 - lr: 2.5000e-04\n",
            "Epoch 298/1000\n",
            "76/76 [==============================] - 0s 4ms/step - loss: 0.5473 - accuracy: 0.7977 - val_loss: 1.1344 - val_accuracy: 0.7511 - lr: 2.5000e-04\n",
            "Epoch 299/1000\n",
            "76/76 [==============================] - 0s 5ms/step - loss: 0.5362 - accuracy: 0.8047 - val_loss: 1.1299 - val_accuracy: 0.7511 - lr: 2.5000e-04\n",
            "Epoch 300/1000\n",
            "76/76 [==============================] - 0s 4ms/step - loss: 0.5253 - accuracy: 0.8092 - val_loss: 1.1247 - val_accuracy: 0.7600 - lr: 2.5000e-04\n",
            "Epoch 301/1000\n",
            "76/76 [==============================] - 0s 4ms/step - loss: 0.5287 - accuracy: 0.8002 - val_loss: 1.1025 - val_accuracy: 0.7644 - lr: 2.5000e-04\n",
            "Epoch 302/1000\n",
            "76/76 [==============================] - 0s 4ms/step - loss: 0.5311 - accuracy: 0.8006 - val_loss: 1.1178 - val_accuracy: 0.7644 - lr: 1.2500e-04\n",
            "Epoch 303/1000\n",
            "76/76 [==============================] - 0s 4ms/step - loss: 0.5671 - accuracy: 0.7969 - val_loss: 1.0983 - val_accuracy: 0.7644 - lr: 1.2500e-04\n",
            "Epoch 304/1000\n",
            "76/76 [==============================] - 0s 4ms/step - loss: 0.5324 - accuracy: 0.8092 - val_loss: 1.1130 - val_accuracy: 0.7689 - lr: 1.2500e-04\n",
            "Epoch 305/1000\n",
            "76/76 [==============================] - 0s 4ms/step - loss: 0.5177 - accuracy: 0.8088 - val_loss: 1.1269 - val_accuracy: 0.7644 - lr: 1.2500e-04\n",
            "Epoch 306/1000\n",
            "76/76 [==============================] - 0s 4ms/step - loss: 0.5250 - accuracy: 0.8092 - val_loss: 1.1311 - val_accuracy: 0.7556 - lr: 1.2500e-04\n",
            "Epoch 307/1000\n",
            "76/76 [==============================] - 0s 4ms/step - loss: 0.5160 - accuracy: 0.8117 - val_loss: 1.1227 - val_accuracy: 0.7600 - lr: 1.2500e-04\n",
            "Epoch 308/1000\n",
            "76/76 [==============================] - 0s 4ms/step - loss: 0.5071 - accuracy: 0.8170 - val_loss: 1.1190 - val_accuracy: 0.7644 - lr: 1.2500e-04\n",
            "Epoch 309/1000\n",
            "76/76 [==============================] - 0s 4ms/step - loss: 0.5438 - accuracy: 0.8125 - val_loss: 1.1088 - val_accuracy: 0.7422 - lr: 1.2500e-04\n",
            "Epoch 310/1000\n",
            "76/76 [==============================] - 0s 4ms/step - loss: 0.5310 - accuracy: 0.8039 - val_loss: 1.0937 - val_accuracy: 0.7467 - lr: 1.2500e-04\n",
            "Epoch 311/1000\n",
            "76/76 [==============================] - 0s 4ms/step - loss: 0.5094 - accuracy: 0.8183 - val_loss: 1.1038 - val_accuracy: 0.7422 - lr: 1.2500e-04\n",
            "Epoch 312/1000\n",
            "76/76 [==============================] - 0s 4ms/step - loss: 0.5304 - accuracy: 0.8113 - val_loss: 1.1058 - val_accuracy: 0.7422 - lr: 1.2500e-04\n",
            "Epoch 313/1000\n",
            "76/76 [==============================] - 0s 5ms/step - loss: 0.5233 - accuracy: 0.8084 - val_loss: 1.1099 - val_accuracy: 0.7467 - lr: 1.2500e-04\n",
            "Epoch 314/1000\n",
            "76/76 [==============================] - 0s 4ms/step - loss: 0.5566 - accuracy: 0.8117 - val_loss: 1.0992 - val_accuracy: 0.7556 - lr: 1.2500e-04\n",
            "Epoch 315/1000\n",
            "76/76 [==============================] - 0s 4ms/step - loss: 0.5023 - accuracy: 0.8191 - val_loss: 1.1181 - val_accuracy: 0.7556 - lr: 1.2500e-04\n",
            "Epoch 316/1000\n",
            "76/76 [==============================] - 0s 4ms/step - loss: 0.5031 - accuracy: 0.8220 - val_loss: 1.1113 - val_accuracy: 0.7467 - lr: 1.2500e-04\n",
            "Epoch 317/1000\n",
            "76/76 [==============================] - 0s 4ms/step - loss: 0.5097 - accuracy: 0.8121 - val_loss: 1.1141 - val_accuracy: 0.7511 - lr: 1.2500e-04\n",
            "Epoch 318/1000\n",
            "76/76 [==============================] - 0s 4ms/step - loss: 0.5552 - accuracy: 0.8125 - val_loss: 1.0934 - val_accuracy: 0.7467 - lr: 1.2500e-04\n",
            "Epoch 319/1000\n",
            "76/76 [==============================] - 0s 4ms/step - loss: 0.5265 - accuracy: 0.8055 - val_loss: 1.1008 - val_accuracy: 0.7467 - lr: 1.2500e-04\n",
            "Epoch 320/1000\n",
            "76/76 [==============================] - 0s 4ms/step - loss: 0.5171 - accuracy: 0.8117 - val_loss: 1.1207 - val_accuracy: 0.7467 - lr: 1.2500e-04\n",
            "Epoch 321/1000\n",
            "76/76 [==============================] - 0s 5ms/step - loss: 0.5114 - accuracy: 0.8203 - val_loss: 1.1311 - val_accuracy: 0.7422 - lr: 1.2500e-04\n",
            "Epoch 322/1000\n",
            "76/76 [==============================] - 0s 5ms/step - loss: 0.5276 - accuracy: 0.8117 - val_loss: 1.1252 - val_accuracy: 0.7422 - lr: 1.2500e-04\n",
            "Epoch 323/1000\n",
            "76/76 [==============================] - 0s 5ms/step - loss: 0.5378 - accuracy: 0.8076 - val_loss: 1.1172 - val_accuracy: 0.7511 - lr: 1.2500e-04\n",
            "Epoch 324/1000\n",
            "76/76 [==============================] - 0s 4ms/step - loss: 0.5032 - accuracy: 0.8195 - val_loss: 1.1349 - val_accuracy: 0.7511 - lr: 1.2500e-04\n",
            "Epoch 325/1000\n",
            "76/76 [==============================] - 0s 5ms/step - loss: 0.5304 - accuracy: 0.8002 - val_loss: 1.1223 - val_accuracy: 0.7511 - lr: 1.2500e-04\n",
            "Epoch 326/1000\n",
            "76/76 [==============================] - 0s 4ms/step - loss: 0.5174 - accuracy: 0.8133 - val_loss: 1.1313 - val_accuracy: 0.7511 - lr: 1.2500e-04\n",
            "Epoch 327/1000\n",
            "76/76 [==============================] - 0s 5ms/step - loss: 0.5072 - accuracy: 0.8166 - val_loss: 1.1312 - val_accuracy: 0.7511 - lr: 1.2500e-04\n",
            "Epoch 328/1000\n",
            "76/76 [==============================] - 0s 5ms/step - loss: 0.5156 - accuracy: 0.8084 - val_loss: 1.1492 - val_accuracy: 0.7467 - lr: 1.2500e-04\n",
            "Epoch 329/1000\n",
            "76/76 [==============================] - 0s 4ms/step - loss: 0.5017 - accuracy: 0.8220 - val_loss: 1.1435 - val_accuracy: 0.7556 - lr: 1.2500e-04\n",
            "Epoch 330/1000\n",
            "76/76 [==============================] - 0s 4ms/step - loss: 0.5065 - accuracy: 0.8100 - val_loss: 1.1441 - val_accuracy: 0.7556 - lr: 1.2500e-04\n",
            "Epoch 331/1000\n",
            "76/76 [==============================] - 0s 4ms/step - loss: 0.5057 - accuracy: 0.8166 - val_loss: 1.1429 - val_accuracy: 0.7511 - lr: 1.2500e-04\n",
            "Epoch 332/1000\n",
            "76/76 [==============================] - 0s 5ms/step - loss: 0.5248 - accuracy: 0.8100 - val_loss: 1.1435 - val_accuracy: 0.7511 - lr: 1.2500e-04\n",
            "Epoch 333/1000\n",
            "76/76 [==============================] - 0s 4ms/step - loss: 0.5132 - accuracy: 0.8039 - val_loss: 1.1244 - val_accuracy: 0.7422 - lr: 1.2500e-04\n",
            "Epoch 334/1000\n",
            "76/76 [==============================] - 0s 4ms/step - loss: 0.5017 - accuracy: 0.8158 - val_loss: 1.1251 - val_accuracy: 0.7467 - lr: 1.2500e-04\n",
            "Epoch 335/1000\n",
            "76/76 [==============================] - 0s 4ms/step - loss: 0.4927 - accuracy: 0.8211 - val_loss: 1.1259 - val_accuracy: 0.7467 - lr: 6.2500e-05\n",
            "Epoch 336/1000\n",
            "76/76 [==============================] - 0s 4ms/step - loss: 0.4979 - accuracy: 0.8129 - val_loss: 1.1315 - val_accuracy: 0.7511 - lr: 6.2500e-05\n",
            "Epoch 337/1000\n",
            "76/76 [==============================] - 0s 4ms/step - loss: 0.5166 - accuracy: 0.8141 - val_loss: 1.1313 - val_accuracy: 0.7511 - lr: 6.2500e-05\n",
            "Epoch 338/1000\n",
            "76/76 [==============================] - 0s 4ms/step - loss: 0.5187 - accuracy: 0.8030 - val_loss: 1.1331 - val_accuracy: 0.7467 - lr: 6.2500e-05\n",
            "Epoch 339/1000\n",
            "76/76 [==============================] - 0s 5ms/step - loss: 0.5139 - accuracy: 0.8150 - val_loss: 1.1382 - val_accuracy: 0.7467 - lr: 6.2500e-05\n",
            "Epoch 340/1000\n",
            "76/76 [==============================] - 0s 4ms/step - loss: 0.5003 - accuracy: 0.8133 - val_loss: 1.1501 - val_accuracy: 0.7422 - lr: 6.2500e-05\n",
            "Epoch 341/1000\n",
            "76/76 [==============================] - 0s 4ms/step - loss: 0.4781 - accuracy: 0.8277 - val_loss: 1.1518 - val_accuracy: 0.7422 - lr: 6.2500e-05\n",
            "Epoch 342/1000\n",
            "76/76 [==============================] - 0s 4ms/step - loss: 0.4846 - accuracy: 0.8252 - val_loss: 1.1489 - val_accuracy: 0.7467 - lr: 6.2500e-05\n",
            "Epoch 343/1000\n",
            "76/76 [==============================] - 0s 4ms/step - loss: 0.5006 - accuracy: 0.8125 - val_loss: 1.1500 - val_accuracy: 0.7422 - lr: 6.2500e-05\n",
            "Epoch 344/1000\n",
            "76/76 [==============================] - 0s 4ms/step - loss: 0.5081 - accuracy: 0.8109 - val_loss: 1.1480 - val_accuracy: 0.7422 - lr: 6.2500e-05\n",
            "Epoch 345/1000\n",
            "76/76 [==============================] - 0s 4ms/step - loss: 0.4825 - accuracy: 0.8277 - val_loss: 1.1536 - val_accuracy: 0.7422 - lr: 6.2500e-05\n",
            "Epoch 346/1000\n",
            "76/76 [==============================] - 0s 4ms/step - loss: 0.5230 - accuracy: 0.8043 - val_loss: 1.1294 - val_accuracy: 0.7422 - lr: 6.2500e-05\n",
            "Epoch 347/1000\n",
            "76/76 [==============================] - 0s 4ms/step - loss: 0.5021 - accuracy: 0.8232 - val_loss: 1.1263 - val_accuracy: 0.7467 - lr: 6.2500e-05\n",
            "Epoch 348/1000\n",
            "76/76 [==============================] - 0s 5ms/step - loss: 0.4982 - accuracy: 0.8236 - val_loss: 1.1270 - val_accuracy: 0.7467 - lr: 6.2500e-05\n",
            "Epoch 349/1000\n",
            "76/76 [==============================] - 0s 4ms/step - loss: 0.5071 - accuracy: 0.8211 - val_loss: 1.1273 - val_accuracy: 0.7511 - lr: 6.2500e-05\n",
            "Epoch 350/1000\n",
            "76/76 [==============================] - 0s 5ms/step - loss: 0.5112 - accuracy: 0.8096 - val_loss: 1.1237 - val_accuracy: 0.7556 - lr: 6.2500e-05\n",
            "Epoch 351/1000\n",
            "76/76 [==============================] - 0s 4ms/step - loss: 0.5014 - accuracy: 0.8150 - val_loss: 1.1278 - val_accuracy: 0.7422 - lr: 6.2500e-05\n",
            "Epoch 352/1000\n",
            "76/76 [==============================] - 0s 4ms/step - loss: 0.4938 - accuracy: 0.8248 - val_loss: 1.1403 - val_accuracy: 0.7378 - lr: 6.2500e-05\n",
            "Epoch 353/1000\n",
            "76/76 [==============================] - 0s 5ms/step - loss: 0.4927 - accuracy: 0.8277 - val_loss: 1.1459 - val_accuracy: 0.7422 - lr: 6.2500e-05\n",
            "Epoch 354/1000\n",
            "76/76 [==============================] - 0s 4ms/step - loss: 0.5133 - accuracy: 0.8026 - val_loss: 1.1469 - val_accuracy: 0.7422 - lr: 6.2500e-05\n"
          ]
        }
      ]
    },
    {
      "cell_type": "markdown",
      "source": [
        "### Plot results"
      ],
      "metadata": {
        "id": "u9Gr1GeZQO-d"
      }
    },
    {
      "cell_type": "code",
      "source": [
        "from datetime import datetime\n",
        "dir = f'{save_dir}/date{datetime.now()}acc{max(history[\"val_accuracy\"])}'\n",
        "os.mkdir(dir)"
      ],
      "metadata": {
        "id": "LuCRFCvMHPoV"
      },
      "execution_count": null,
      "outputs": []
    },
    {
      "cell_type": "code",
      "source": [
        "predictions = model.predict(x_test)\n",
        "predictions.shape"
      ],
      "metadata": {
        "id": "X-T7tnoZTZIB",
        "colab": {
          "base_uri": "https://localhost:8080/"
        },
        "outputId": "25b4050a-5058-4496-97f4-c678abe25a3f"
      },
      "execution_count": null,
      "outputs": [
        {
          "output_type": "stream",
          "name": "stdout",
          "text": [
            "8/8 [==============================] - 0s 2ms/step\n"
          ]
        },
        {
          "output_type": "execute_result",
          "data": {
            "text/plain": [
              "(225, 12)"
            ]
          },
          "metadata": {},
          "execution_count": 19
        }
      ]
    },
    {
      "cell_type": "code",
      "metadata": {
        "id": "1UCCpzTHKMqF",
        "colab": {
          "base_uri": "https://localhost:8080/",
          "height": 1000
        },
        "outputId": "f55d8e53-0304-4595-a6b4-f82ad4784f01"
      },
      "source": [
        "best_epoch = np.argmax(history['val_accuracy'])\n",
        "plt.figure(figsize=(17,4))\n",
        "plt.plot(history['loss'], label='Training loss', alpha=.8, color='#ff7f0e')\n",
        "plt.plot(history['val_loss'], label='Validation loss', alpha=.9, color='#5a9aa5')\n",
        "plt.axvline(x=best_epoch, label='Best epoch', alpha=.3, ls='--', color='#5a9aa5')\n",
        "plt.title('Categorical Crossentropy')\n",
        "plt.legend()\n",
        "plt.grid(alpha=.3)\n",
        "plt.show()\n",
        "\n",
        "plt.figure(figsize=(17,4))\n",
        "plt.plot(history['accuracy'], label='Training accuracy', alpha=.8, color='#ff7f0e')\n",
        "plt.plot(history['val_accuracy'], label='Validation accuracy', alpha=.9, color='#5a9aa5')\n",
        "plt.axvline(x=best_epoch, label='Best epoch', alpha=.3, ls='--', color='#5a9aa5')\n",
        "plt.title('Accuracy')\n",
        "plt.legend()\n",
        "plt.grid(alpha=.3)\n",
        "plt.show()\n",
        "\n",
        "plt.figure(figsize=(17,4))\n",
        "plt.plot(history['lr'], label='Learning Rate', alpha=.8, color='#ff7f0e')\n",
        "plt.axvline(x=best_epoch, label='Best epoch', alpha=.3, ls='--', color='#5a9aa5')\n",
        "plt.legend()\n",
        "plt.grid(alpha=.3)\n",
        "plt.show()\n",
        "\n",
        "# Compute the confusion matrix\n",
        "cm = confusion_matrix(np.argmax(y_test, axis=-1), np.argmax(predictions, axis=-1))\n",
        "\n",
        "# Compute the classification metrics\n",
        "accuracy = accuracy_score(np.argmax(y_test, axis=-1), np.argmax(predictions, axis=-1))\n",
        "precision = precision_score(np.argmax(y_test, axis=-1), np.argmax(predictions, axis=-1), average='macro')\n",
        "recall = recall_score(np.argmax(y_test, axis=-1), np.argmax(predictions, axis=-1), average='macro')\n",
        "f1 = f1_score(np.argmax(y_test, axis=-1), np.argmax(predictions, axis=-1), average='macro')\n",
        "print('Accuracy:',accuracy.round(4))\n",
        "print('Precision:',precision.round(4))\n",
        "print('Recall:',recall.round(4))\n",
        "print('F1:',f1.round(4))\n",
        "\n",
        "# Plot the confusion matrix\n",
        "cmn = cm.astype('float') / cm.sum(axis=1)[:, np.newaxis]\n",
        "fig, ax = plt.subplots(figsize=(15,15))\n",
        "sns.heatmap(cmn,  cmap='Blues', annot=True, fmt='.2f',xticklabels=range(12), yticklabels=range(12))\n",
        "plt.ylabel('True')\n",
        "plt.xlabel('Predicted')\n",
        "plt.show(block=False)\n",
        "fig.savefig(f'{dir}/confusion_matrix.png')"
      ],
      "execution_count": null,
      "outputs": [
        {
          "output_type": "display_data",
          "data": {
            "text/plain": [
              "<Figure size 1224x288 with 1 Axes>"
            ],
            "image/png": "[encoded data removed]"
          },
          "metadata": {
            "needs_background": "light"
          }
        },
        {
          "output_type": "display_data",
          "data": {
            "text/plain": [
              "<Figure size 1224x288 with 1 Axes>"
            ],
            "image/png": "[encoded data removed]"
          },
          "metadata": {
            "needs_background": "light"
          }
        },
        {
          "output_type": "display_data",
          "data": {
            "text/plain": [
              "<Figure size 1224x288 with 1 Axes>"
            ],
            "image/png": "[encoded data removed]"
          },
          "metadata": {
            "needs_background": "light"
          }
        },
        {
          "output_type": "stream",
          "name": "stdout",
          "text": [
            "Accuracy: 0.7689\n",
            "Precision: 0.7005\n",
            "Recall: 0.6279\n",
            "F1: 0.6469\n"
          ]
        },
        {
          "output_type": "display_data",
          "data": {
            "text/plain": [
              "<Figure size 1080x1080 with 2 Axes>"
            ],
            "image/png": "[encoded data removed]"
          },
          "metadata": {
            "needs_background": "light"
          }
        }
      ]
    },
    {
      "cell_type": "code",
      "source": [
        "print(max(history['val_accuracy']))"
      ],
      "metadata": {
        "id": "UUOTQY9dbDlb",
        "colab": {
          "base_uri": "https://localhost:8080/"
        },
        "outputId": "dce72fd1-6954-4fdf-8d69-24f1e57245e4"
      },
      "execution_count": null,
      "outputs": [
        {
          "output_type": "stream",
          "name": "stdout",
          "text": [
            "0.7688888907432556\n"
          ]
        }
      ]
    },
    {
      "cell_type": "markdown",
      "source": [
        "### Save model"
      ],
      "metadata": {
        "id": "QfwfdL2iQSrp"
      }
    },
    {
      "cell_type": "code",
      "metadata": {
        "id": "4_eXoY7pTxb7",
        "colab": {
          "base_uri": "https://localhost:8080/"
        },
        "outputId": "373ff15b-9bd5-4515-a2aa-bcff059f1adf"
      },
      "source": [
        "model.save(dir)"
      ],
      "execution_count": null,
      "outputs": [
        {
          "output_type": "stream",
          "name": "stderr",
          "text": [
            "WARNING:absl:Function `_wrapped_model` contains input name(s) Input with unsupported characters which will be renamed to input in the SavedModel.\n",
            "WARNING:absl:Found untraced functions such as _jit_compiled_convolution_op, _jit_compiled_convolution_op, _jit_compiled_convolution_op while saving (showing 3 of 3). These functions will not be directly callable after loading.\n"
          ]
        }
      ]
    },
    {
      "cell_type": "code",
      "source": [
        "from pickle import dump\n",
        "\n",
        "dump(scaler, open(f'{dir}/scaler.pkl', 'wb'))"
      ],
      "metadata": {
        "id": "qHrwxrqNYJ4_"
      },
      "execution_count": null,
      "outputs": []
    },
    {
      "cell_type": "code",
      "source": [
        "%cp \"/gdrive/My Drive/Colab Notebooks/Final model.ipynb\" \"/gdrive/My Drive/My ANNDL/Challenge2/$dir\"\n",
        "%cd \"/gdrive/My Drive/My ANNDL/Challenge2/$dir\"\n",
        "%ls"
      ],
      "metadata": {
        "id": "8L2CMfUTlK42",
        "colab": {
          "base_uri": "https://localhost:8080/"
        },
        "outputId": "a6009ce9-f492-47c3-a0f9-a7b7a9a602de"
      },
      "execution_count": null,
      "outputs": [
        {
          "output_type": "stream",
          "name": "stdout",
          "text": [
            "cp: cannot stat '/gdrive/My Drive/Colab Notebooks/Final model.ipynb': No such file or directory\n",
            "/gdrive/My Drive/My ANNDL/Challenge2/models/date2022-12-22 17:40:58.591364acc0.7688888907432556\n",
            "\u001b[0m\u001b[01;34massets\u001b[0m/               keras_metadata.pb  scaler.pkl\n",
            "confusion_matrix.png  saved_model.pb     \u001b[01;34mvariables\u001b[0m/\n"
          ]
        }
      ]
    }
  ]
}